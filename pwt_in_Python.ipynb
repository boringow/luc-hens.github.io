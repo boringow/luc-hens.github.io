{
 "cells": [
  {
   "cell_type": "markdown",
   "id": "375eaf6a",
   "metadata": {},
   "source": [
    "# Penn World Table in Python"
   ]
  },
  {
   "cell_type": "markdown",
   "id": "5341bf2f",
   "metadata": {},
   "source": [
    "**Author:** Luc Hens\n",
    "\n",
    "**Version:** 27 January 2022\n",
    "\n",
    "**Description:** Python code to read the Penn World Table and store the data in a dataframe called pwt. Examples of manipulations of series, subsetting of data, tables, graphs, and computations. Some of the examples show how to do the work for the research project for Introduction to Macroeconomics (*Inleiding tot de Macro-economie*)."
   ]
  },
  {
   "cell_type": "markdown",
   "id": "4512bfb5",
   "metadata": {},
   "source": [
    "Go to the Penn World Table home page (https://www.rug.nl/ggdc/productivity/pwt/) for the latest version of the Penn World Table. On 14 January 2022, the latest version was 10.0. The corresponding Stata data file was `pwt100.dta` (`pwt` stands for Penn World Table; `.dta` is the file extension for Stata data files). The path to the file was `https://www.rug.nl/ggdc/docs/pwt100.dta`.\n",
    "\n",
    "When using the Penn World Table, make sure to document the source as explained in the \"Attribution requirement\" on https://www.rug.nl/ggdc/productivity/pwt/. \n",
    "\n",
    "The **documentation** (variable names,\tvariable definitions, units of measurement etc.) is stored in an Excel spreadsheet on https://www.rug.nl/ggdc/productivity/pwt/ (Info and Legend tabs). To extract this information from the spreadsheet (**warning**: this may take a while --be patient: "
   ]
  },
  {
   "cell_type": "code",
   "execution_count": null,
   "id": "9a7bfe9a",
   "metadata": {},
   "outputs": [],
   "source": [
    "import pandas as pd\n",
    "pwt_info   = pd.read_excel('https://www.rug.nl/ggdc/docs/pwt100.xlsx', sheet_name=\"Info\")   # read information on pwt\n",
    "pwt_legend = pd.read_excel('https://www.rug.nl/ggdc/docs/pwt100.xlsx', sheet_name=\"Legend\") # read legend\n",
    "# make sure that you use the most recent version (pwt100 refers to Penn World Table 10.0)\n",
    "with pd.option_context(\"display.min_rows\", 50, \"display.max_rows\", 100, \\\n",
    "                       \"display.max_columns\", 15, 'display.max_colwidth', 150):\n",
    "    left_aligned_pwt_legend = pwt_legend.style.set_properties(**{'text-align': 'left'}) # .style.set_properties(**{'text-align': 'left'}) is to left-align columns when displaying\n",
    "    display(left_aligned_pwt_legend) "
   ]
  },
  {
   "cell_type": "code",
   "execution_count": null,
   "id": "3ad309aa",
   "metadata": {},
   "outputs": [],
   "source": [
    "# Display the information about the data set:\n",
    "with pd.option_context(\"display.min_rows\", 50, \"display.max_rows\", 100, \\\n",
    "                       \"display.max_columns\", 15, 'display.max_colwidth', 150):\n",
    "    left_aligned_pwt_info = pwt_info.style.set_properties(**{'text-align': 'left'})  # to left-align columns when displaying\n",
    "    display(left_aligned_pwt_info)"
   ]
  },
  {
   "cell_type": "markdown",
   "id": "cfae73fd",
   "metadata": {},
   "source": [
    "Read the Penn World Table using `pandas` and show the last lines (cases) of the data frame:"
   ]
  },
  {
   "cell_type": "code",
   "execution_count": null,
   "id": "38263c78",
   "metadata": {},
   "outputs": [],
   "source": [
    "import pandas as pd\n",
    "pwt = pd.read_stata('https://www.rug.nl/ggdc/docs/pwt100.dta').set_index('year')\n",
    "# We use pwt as the name for the dataframe\n",
    "# make sure that you use the most recent version (pwt100 refers to Penn World Table 10.0)\n",
    "pwt.tail()   # show the last lines (cases) of the data frame"
   ]
  },
  {
   "cell_type": "markdown",
   "id": "c43b0ee7",
   "metadata": {},
   "source": [
    "Let us verify what the **data types** of the variables (series) in the dataframe `pwt` are (`object` is a categorical variable; `int` is an integer; `float` is a number with decimals (real number)):"
   ]
  },
  {
   "cell_type": "code",
   "execution_count": null,
   "id": "81e9bdd8",
   "metadata": {},
   "outputs": [],
   "source": [
    "pwt.dtypes  # show data types of the variables (series) in dataframe pwt"
   ]
  },
  {
   "cell_type": "markdown",
   "id": "f53fbe23",
   "metadata": {},
   "source": [
    "Another way to do get the data types (plus other information)  is:"
   ]
  },
  {
   "cell_type": "code",
   "execution_count": null,
   "id": "1d1e9c5b",
   "metadata": {},
   "outputs": [],
   "source": [
    "pwt.info()   # technical information about the dataframe"
   ]
  },
  {
   "cell_type": "markdown",
   "id": "fecbcc32",
   "metadata": {},
   "source": [
    "The `countrycode` and `country` variables are read as `object` type variables but are in fact categorical. Let is change the data type accordingly:"
   ]
  },
  {
   "cell_type": "code",
   "execution_count": null,
   "id": "98392119",
   "metadata": {},
   "outputs": [],
   "source": [
    "pwt['countrycode'] = pwt['countrycode'].astype('category')\n",
    "pwt['country']     = pwt['country'].astype('category')"
   ]
  },
  {
   "cell_type": "markdown",
   "id": "b16096f3",
   "metadata": {},
   "source": [
    "(To check whether the data type has changed, you can run `pwt.info()` again.)"
   ]
  },
  {
   "cell_type": "markdown",
   "id": "671c300b",
   "metadata": {},
   "source": [
    "The Penn World Table is a panel data set: it combines time series data (yearly data starting in 1950) and cross-sectional data (countries). When the data file was read by pandas, we used `year` as the index for the dataframe. Let us check the data type of the index: "
   ]
  },
  {
   "cell_type": "code",
   "execution_count": null,
   "id": "be68d227",
   "metadata": {},
   "outputs": [],
   "source": [
    "type(pwt.index)"
   ]
  },
  {
   "cell_type": "markdown",
   "id": "42bc26df",
   "metadata": {},
   "source": [
    "As the index for the dataframe (`year`) refers to time, it is useful to change the format to the `datetime` data type:"
   ]
  },
  {
   "cell_type": "code",
   "execution_count": null,
   "id": "171b4d88",
   "metadata": {},
   "outputs": [],
   "source": [
    "pwt.index = pd.to_datetime(pwt.index,format='%Y')\n",
    "type(pwt.index)\n",
    "pwt.tail()"
   ]
  },
  {
   "cell_type": "markdown",
   "id": "3a000f62",
   "metadata": {},
   "source": [
    "## Change the variable name  of `pop`"
   ]
  },
  {
   "cell_type": "markdown",
   "id": "b8f3bb63",
   "metadata": {},
   "source": [
    "The name of the population variable is `pop`. Because `pop` is also the name of the pandas function to drop an item from a data frame, we'll rename the variable (column) name `pop` to `population` using the `rename()` functiom from pandas (https://pandas.pydata.org/pandas-docs/stable/reference/api/pandas.DataFrame.pop.html;  https://www.geeksforgeeks.org/python-pandas-dataframe-rename/  )"
   ]
  },
  {
   "cell_type": "code",
   "execution_count": null,
   "id": "bccdc0ba",
   "metadata": {},
   "outputs": [],
   "source": [
    "pwt.rename(columns = {\"pop\": \"population\"}, inplace = True)"
   ]
  },
  {
   "cell_type": "code",
   "execution_count": null,
   "id": "d84439e4",
   "metadata": {},
   "outputs": [],
   "source": [
    "pwt.columns   # list(pwt) is another way of getting a list of the column names"
   ]
  },
  {
   "cell_type": "code",
   "execution_count": null,
   "id": "9c9b9911",
   "metadata": {},
   "outputs": [],
   "source": [
    "# To get a list of the country names without duplicates: (there must be a more elegant way to do this)\n",
    "a = pwt.country.value_counts()\n",
    "pd.set_option('display.max_rows', pwt.shape[0]+1)  # to display all rows of a\n",
    "display(a)"
   ]
  },
  {
   "cell_type": "code",
   "execution_count": null,
   "id": "f983da69",
   "metadata": {},
   "outputs": [],
   "source": [
    "# Another way to get a list of the country names without duplicates: (there must be a more elegant way to do this)\n",
    "# (see https://www.w3schools.com/python/python_howto_remove_duplicates.asp)\n",
    "mylist = pwt[\"country\"]\n",
    "mylist = list(dict.fromkeys(mylist)) # Create a dictionary, using the List items as keys. This will automatically remove any duplicates because dictionaries cannot have duplicate keys.\n",
    "display(mylist)"
   ]
  },
  {
   "cell_type": "markdown",
   "id": "60743734",
   "metadata": {},
   "source": [
    "We are set now to start working with the `pwt` dataframe. If you plan to work with the Penn World Table regularly, it is useful to put all the `code` above (code is in the `grey` cells) in one code block."
   ]
  },
  {
   "cell_type": "markdown",
   "id": "c9ae1786",
   "metadata": {},
   "source": [
    "## Add variables to the dataframe:\n",
    "\n",
    "We create some additional variables: real GDP expressed in billions of US$ (rgdpe_in_billions), real GDP per person (`rgde_over_pop`), real GDP per worker (`rgde_over_emp`), the ratio of the labor force over the population (`emp_over_pop`): "
   ]
  },
  {
   "cell_type": "code",
   "execution_count": null,
   "id": "08a7aad5",
   "metadata": {},
   "outputs": [],
   "source": [
    "import numpy as np\n",
    "# First we create the series (columns) and assign the values with NaN ():\n",
    "pwt = pwt.assign(rgdpe_in_billions = np.nan, rgdpe_over_pop = np.nan, \n",
    "                 rgdpe_over_emp = np.nan, cn_over_emp = np.nan, emp_over_pop = np.nan)\n",
    "# Then we compute the values for the new series:\n",
    "pwt.rgdpe_over_pop = pwt.rgdpe/pwt.population\n",
    "pwt.rgdpe_over_emp = pwt.rgdpe/pwt.emp\n",
    "pwt.emp_over_pop = pwt.emp/pwt.population   # employment as fraction of population\n",
    "pwt.rgdpe_in_billions = pwt.rgdpe/10**3  \n",
    "pwt.tail() # display the last lines of the new dataframe `pwt`"
   ]
  },
  {
   "cell_type": "markdown",
   "id": "7f25692a",
   "metadata": {},
   "source": [
    "## Subsetting the data set: select one country\n",
    "Subsetting in pandas: https://pandas.pydata.org/docs/getting_started/intro_tutorials/03_subset_data.html "
   ]
  },
  {
   "cell_type": "markdown",
   "id": "17e634e9",
   "metadata": {},
   "source": [
    "Select only Belgium:"
   ]
  },
  {
   "cell_type": "code",
   "execution_count": null,
   "id": "7006510c",
   "metadata": {},
   "outputs": [],
   "source": [
    "BEL_data = pwt[(pwt['country'] == 'Belgium')]\n",
    "BEL_data.head() # display the first lines of the new dataframe `BEL_data`"
   ]
  },
  {
   "cell_type": "markdown",
   "id": "ec8d78d0",
   "metadata": {},
   "source": [
    "Select `rgdpe` for Belgium:"
   ]
  },
  {
   "cell_type": "code",
   "execution_count": null,
   "id": "4099e87e",
   "metadata": {},
   "outputs": [],
   "source": [
    "y1 = pwt[(pwt['country'] == 'Belgium')].rgdpe\n",
    "y1.head()"
   ]
  },
  {
   "cell_type": "markdown",
   "id": "b9654d36",
   "metadata": {},
   "source": [
    "## Subsetting the data set: select variables "
   ]
  },
  {
   "cell_type": "markdown",
   "id": "f8e226e4",
   "metadata": {},
   "source": [
    "Select the variables (columns, Series) we'll need: `country`, `rgdpe`, `population`, `emp`, `rgdpe_over_pop`, `rgdpe_over_emp`, `emp_over_pop`:"
   ]
  },
  {
   "cell_type": "code",
   "execution_count": null,
   "id": "efccfe37",
   "metadata": {},
   "outputs": [],
   "source": [
    "BEL_data = BEL_data[[\"country\", \"rgdpe\", \"population\", \"emp\", \n",
    "                    \"rgdpe_over_pop\", \"rgdpe_over_emp\", \"emp_over_pop\"]]\n",
    "BEL_data.head() # display the first lines of the dataframe `BEL_data`"
   ]
  },
  {
   "cell_type": "markdown",
   "id": "9a58f71a",
   "metadata": {},
   "source": [
    "## Subsetting the data set:  select a single value"
   ]
  },
  {
   "cell_type": "markdown",
   "id": "1b34006b",
   "metadata": {},
   "source": [
    "Display the row for Belgium in 2019:"
   ]
  },
  {
   "cell_type": "code",
   "execution_count": null,
   "id": "e1cdb4f7",
   "metadata": {},
   "outputs": [],
   "source": [
    "BEL_data.loc['2019-01-01']    "
   ]
  },
  {
   "cell_type": "markdown",
   "id": "5f023050",
   "metadata": {},
   "source": [
    "Here is another way of doing the same thing:"
   ]
  },
  {
   "cell_type": "code",
   "execution_count": null,
   "id": "fe9845a5",
   "metadata": {},
   "outputs": [],
   "source": [
    "pd.DataFrame(BEL_data, index=pd.date_range('2019-01-01', periods=1))    "
   ]
  },
  {
   "cell_type": "markdown",
   "id": "704e86a2",
   "metadata": {},
   "source": [
    "By adding the argument `freq= 'YS'` (year start) and choosing a different value for `periods`, we can take a subset over several periods:"
   ]
  },
  {
   "cell_type": "code",
   "execution_count": null,
   "id": "0acb5c7c",
   "metadata": {},
   "outputs": [],
   "source": [
    "pd.DataFrame(BEL_data, index=pd.date_range('2010-01-01', freq = 'YS', periods=5)) "
   ]
  },
  {
   "cell_type": "markdown",
   "id": "c0da93eb",
   "metadata": {},
   "source": [
    "Display population (`rgdpe`, in millions) for Belgium in 2019:"
   ]
  },
  {
   "cell_type": "code",
   "execution_count": null,
   "id": "c4612b7b",
   "metadata": {},
   "outputs": [],
   "source": [
    "BEL_data.loc['2019-01-01'].rgdpe"
   ]
  },
  {
   "cell_type": "markdown",
   "id": "aff22cd5",
   "metadata": {},
   "source": [
    "Display labor force (`emp`, in millions) for Belgium in 2019:"
   ]
  },
  {
   "cell_type": "code",
   "execution_count": null,
   "id": "8665e02e",
   "metadata": {},
   "outputs": [],
   "source": [
    "BEL_data.loc['2019-01-01'].emp"
   ]
  },
  {
   "cell_type": "markdown",
   "id": "2fcc659f",
   "metadata": {},
   "source": [
    "## Create time series (not needed because the index is of datetime type)"
   ]
  },
  {
   "cell_type": "code",
   "execution_count": null,
   "id": "67468f32",
   "metadata": {},
   "outputs": [],
   "source": [
    "\n",
    "pwt.tail()"
   ]
  },
  {
   "cell_type": "markdown",
   "id": "fcaa6db3",
   "metadata": {},
   "source": [
    "## Time series diagram comparing income per person in two countries"
   ]
  },
  {
   "cell_type": "code",
   "execution_count": null,
   "id": "e1a9eda1",
   "metadata": {},
   "outputs": [],
   "source": [
    "# We want to plot a time series diagram of rgdpe_over_pop for Belgium and India \n",
    "# First, we construct a dataframe that is a subsetting of pwt for Belgium:\n",
    "BEL_data = pwt[(pwt['country'] == 'Belgium')] \n",
    "# Then limit the dataframe to just the variables `rgdpe_over_pop` and `rgdpe_over_emp`:\n",
    "BEL_data = BEL_data[['rgdpe_over_pop','rgdpe_over_emp']]\n",
    "# We do the same thing for India:\n",
    "IND_data = pwt[(pwt['country'] == 'India')]\n",
    "IND_data = IND_data[['rgdpe_over_pop','rgdpe_over_emp']]\n",
    "IND_data.head()"
   ]
  },
  {
   "cell_type": "markdown",
   "id": "423acbb8",
   "metadata": {},
   "source": [
    "Let us first illustrate how to make a **time series diagram** of income per person for one country (Belgium):"
   ]
  },
  {
   "cell_type": "code",
   "execution_count": null,
   "id": "a514d4a5",
   "metadata": {},
   "outputs": [],
   "source": [
    "import matplotlib.pyplot as plt\n",
    "fig = plt.figure()\n",
    "plt.plot(BEL_data['rgdpe_over_pop']) \n",
    "plt.box(False)   # get rid of the box\n",
    "plt.ylabel('Income per person (PPP, 2017 US$)')    \n",
    "plt.show()"
   ]
  },
  {
   "cell_type": "markdown",
   "id": "0496dfe3",
   "metadata": {},
   "source": [
    "Let us now make a time series diagram comparing income per person of Belgium and India:"
   ]
  },
  {
   "cell_type": "code",
   "execution_count": null,
   "id": "28b7a006",
   "metadata": {},
   "outputs": [],
   "source": [
    "import matplotlib.pyplot as plt\n",
    "fig = plt.figure()\n",
    "plt.box(False)   # get rid of the box\n",
    "plt.ylabel('Income per person (PPP, 2017 US$)')    \n",
    "# Plot a line chart:\n",
    "plt.plot(BEL_data.rgdpe_over_pop, label='Belgium')\n",
    "plt.plot(IND_data.rgdpe_over_pop, label='India')\n",
    "plt.legend(edgecolor=\"None\")    # adding legend to the curve (but is better to label the lines - see below)\n",
    "plt.show() "
   ]
  },
  {
   "cell_type": "markdown",
   "id": "3fd78384",
   "metadata": {},
   "source": [
    "Labels next to the lines are better than a legend: \n",
    "( https://www.statology.org/matplotlib-add-text/: ` matplotlib.pyplot.text(x, y, s, fontdict=None)`)"
   ]
  },
  {
   "cell_type": "code",
   "execution_count": null,
   "id": "eb741ff0",
   "metadata": {},
   "outputs": [],
   "source": [
    "import matplotlib.pyplot as plt\n",
    "fig = plt.figure()\n",
    "plt.box(False)   # get rid of the box\n",
    "plt.xlabel('')   # label on x-axis\n",
    "plt.ylabel('Income per person (PPP, 2017 US$)')     \n",
    "# Plot a line chart:\n",
    "plt.plot(BEL_data.rgdpe_over_pop, label='Belgium')\n",
    "plt.plot(IND_data.rgdpe_over_pop, label='India')\n",
    "y_location_text_1 = BEL_data.loc['2019-01-01'].rgdpe_over_pop\n",
    "y_location_text_2 = IND_data.loc['2019-01-01'].rgdpe_over_pop\n",
    "x_location_text_1 = 18000  # I found this value by trial and error; still have to figure out why 18000 works  (12*2020 ?)\n",
    "x_location_text_2 = 18000  # I found this value by trial and error; still have to figure out why 18000 works  (12*2020 ?)\n",
    "plt.text(x_location_text_1, y_location_text_1, 'Belgium', horizontalalignment='left', verticalalignment='bottom')   # still to fix: replace 50000 by last value of variable\n",
    "plt.text(x_location_text_1, y_location_text_2, 'India'  , horizontalalignment='left', verticalalignment='bottom')   # still to fix: replace 120000 by last value of variable\n",
    "plt.show() "
   ]
  },
  {
   "cell_type": "markdown",
   "id": "40aeba8c",
   "metadata": {},
   "source": [
    "In the research project for **Introduction to Macroeconomics**, this will be figure 1. If you can't get the diagram with the labels next to the lines, use a diagram with a legend."
   ]
  },
  {
   "cell_type": "markdown",
   "id": "79d13bf0",
   "metadata": {},
   "source": [
    "To save the plot to a file in .pdf format:"
   ]
  },
  {
   "cell_type": "code",
   "execution_count": null,
   "id": "75bb7c54",
   "metadata": {},
   "outputs": [],
   "source": [
    "# paste the code from the previous code cell below:\n",
    "\n",
    "\n",
    "fig.savefig('figure_1.pdf', dpi = 1000, transparent=True)  # dpi: dots per inch (the resolution of the image)\n",
    "# the plot is saved to the current working directory (cwd)\n",
    "# to find out what the current working directory (cwd) is:\n",
    "import os\n",
    "print('The file is saved to the current working directory: ',os.getcwd())"
   ]
  },
  {
   "cell_type": "markdown",
   "id": "3789b944",
   "metadata": {},
   "source": [
    "## Average annual growth rate of `rgdpe` between two years\n",
    "\n",
    "\n",
    "To find the annual growth rate of `rgdpe` between two years economists use a formula using natural logarithms : $$   g \\approx \\frac{\\ln x_{t+k}  - \\ln x_t}{k}  $$\n",
    "(for an explanation, see the assignment for the research project of Introduction to Macroeconomics)"
   ]
  },
  {
   "cell_type": "code",
   "execution_count": null,
   "id": "51fe53ee",
   "metadata": {},
   "outputs": [],
   "source": [
    "# BEL_data is the dataframe with the data for Belgium (see above). \n",
    "\n",
    "begin_year = 1950     # t   in the formula above\n",
    "end_year   = 2019     # t+k in the formula above\n",
    "\n",
    "begin_period = pd.to_datetime(begin_year, format='%Y') \n",
    "end_period   = pd.to_datetime(end_year  , format='%Y')\n",
    "\n",
    "begin_value = BEL_data.loc[begin_period].rgdpe_over_pop\n",
    "end_value   = BEL_data.loc[end_period].rgdpe_over_pop\n",
    "\n",
    "# Here are the intermediate results\n",
    "import numpy as np\n",
    "print(\"value in \" , begin_year, \" : \", begin_value)\n",
    "print(\"value in \" , end_year,   \" : \", end_value)\n",
    "print(\"ln of value in \" , begin_year, \" : \", np.log(begin_value))\n",
    "print(\"ln of value in \" , end_year  , \" : \", np.log(end_value))\n",
    "\n",
    "# average annual growth rate:\n",
    "g = (float(np.log(end_value)) - float(np.log(begin_value))) / (end_year - begin_year) \n",
    "# I had to add float() to make this work\n",
    "print(\"growth rate (rounded): \", np.round(g,4))\n",
    "# multiply by 100% to get the percentage growth rate:\n",
    "print(\"The average annual growth rate of rgdpe between\", \n",
    "      begin_year, \"and\" , end_year, \"was\" , np.round(g*100,2),\"percent.\")"
   ]
  },
  {
   "cell_type": "markdown",
   "id": "aaa88a25",
   "metadata": {},
   "source": [
    "## Scatter diagram of labor productivity and income per person"
   ]
  },
  {
   "cell_type": "markdown",
   "id": "c9d15519",
   "metadata": {},
   "source": [
    "Make a **scatter plot** to investigate whether there is a (linear) relationship between labor productivity and real income per person:"
   ]
  },
  {
   "cell_type": "code",
   "execution_count": null,
   "id": "f8495f89",
   "metadata": {},
   "outputs": [],
   "source": [
    "import matplotlib.pyplot as plt\n",
    "fig = plt.figure()   # to set the plot size:   plt.figure(figsize=(16, 8), dpi=150) \n",
    "plt.box(False)   # get rid of the box\n",
    "# plt.title(\"text\") # add title\n",
    "plt.xlabel(\"Labor productivity (PPP, 2017 $)\")   # add label to x-axis\n",
    "plt.ylabel(\"Income per person (PPP, 2017 $)\")  # add label to y-axis\n",
    "plt.scatter(BEL_data.rgdpe_over_emp, BEL_data.rgdpe_over_pop)\n",
    "plt.show()\n",
    "\n",
    "# coefficient of correlation:\n",
    "corr = BEL_data.rgdpe_over_emp.corr(BEL_data.rgdpe_over_pop)\n",
    "import numpy as np\n",
    "np.round(corr,4)  # round result to four decimals"
   ]
  },
  {
   "cell_type": "markdown",
   "id": "118c1d73",
   "metadata": {},
   "source": [
    "It is straightforward to do the same for India. For the sake of comparison, combine the two scatter diagrams (figure 2 in the research project for Introduction to Macroeconomics):"
   ]
  },
  {
   "cell_type": "code",
   "execution_count": null,
   "id": "23966534",
   "metadata": {},
   "outputs": [],
   "source": [
    "import matplotlib.pyplot as plt\n",
    "fig = plt.figure(figsize=(12, 6), dpi=1000)  \n",
    "plt.subplot(1, 2, 1)   # 1 row, 2 columns, 1st plot\n",
    "plt.box(False)\n",
    "plt.title(\"(a) Belgium\") # add title\n",
    "plt.xlabel(\"Labor productivity (PPP, 2017 $)\")   # add label to x-axis\n",
    "plt.ylabel(\"Income per person (PPP, 2017 $)\")  # add label to y-axis\n",
    "plt.scatter(BEL_data.rgdpe_over_emp, BEL_data.rgdpe_over_pop)\n",
    "plt.subplot(1, 2, 2)   # 1 row, 2 columns, 2nd plot\n",
    "plt.box(False)\n",
    "plt.title(\"(b) India\") # add title\n",
    "plt.xlabel(\"Labor productivity (PPP, 2017 $)\")   # add label to x-axis\n",
    "plt.ylabel(\"Income per person (PPP, 2017 $)\")  # add label to y-axis\n",
    "plt.scatter(IND_data.rgdpe_over_emp, IND_data.rgdpe_over_pop)\n",
    "plt.show()"
   ]
  },
  {
   "cell_type": "markdown",
   "id": "727917d1",
   "metadata": {},
   "source": [
    "To save the plot to a file in .pdf format:"
   ]
  },
  {
   "cell_type": "code",
   "execution_count": null,
   "id": "e9863163",
   "metadata": {},
   "outputs": [],
   "source": [
    "# paste the code from the previous code cell below:\n",
    "\n",
    "fig.savefig('figure_2.pdf', dpi = 1000, transparent=True)  # dpi: dots per inch (the resolution of the image)\n",
    "# the plot is saved to the current working directory (cwd)\n",
    "# to find out what the current working directory (cwd) is:\n",
    "import os\n",
    "print('The file is saved to the current working directory: ',os.getcwd())"
   ]
  },
  {
   "cell_type": "markdown",
   "id": "c0cff7db",
   "metadata": {},
   "source": [
    "**Coefficients of correlation** (research project for Introduction to Macroeconomics):"
   ]
  },
  {
   "cell_type": "code",
   "execution_count": null,
   "id": "1c0d877e",
   "metadata": {},
   "outputs": [],
   "source": [
    "corr_BEL = BEL_data.rgdpe_over_emp.corr(BEL_data.rgdpe_over_pop) # coefficient of correlation for Belgium\n",
    "corr_IND = IND_data.rgdpe_over_emp.corr(IND_data.rgdpe_over_pop) # coefficient of correlation for India\n",
    "import numpy as np\n",
    "print(\"Belgium: \", np.round(corr_BEL,4),\"     India: \", np.round(corr_IND,4))  # round result to four decimals"
   ]
  }
 ],
 "metadata": {
  "kernelspec": {
   "display_name": "Python 3 (ipykernel)",
   "language": "python",
   "name": "python3"
  },
  "language_info": {
   "codemirror_mode": {
    "name": "ipython",
    "version": 3
   },
   "file_extension": ".py",
   "mimetype": "text/x-python",
   "name": "python",
   "nbconvert_exporter": "python",
   "pygments_lexer": "ipython3",
   "version": "3.9.7"
  }
 },
 "nbformat": 4,
 "nbformat_minor": 5
}
