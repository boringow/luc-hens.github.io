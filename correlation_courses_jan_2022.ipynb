{
 "cells": [
  {
   "cell_type": "markdown",
   "id": "fd057f64",
   "metadata": {},
   "source": [
    "# Correlation between results for two courses, January 2022"
   ]
  },
  {
   "cell_type": "code",
   "execution_count": 83,
   "id": "8c63abdf",
   "metadata": {},
   "outputs": [],
   "source": [
    "import pandas as pd\n",
    "df = pd.read_csv('/Users/luchens/Documents/Administration/Opleidingsraad-TEW-HI/Puntenlijsten_202201/puntenlijsten_202201.csv', sep=';')   # df is the name we assign to the data frame\n",
    "# df.head()"
   ]
  },
  {
   "cell_type": "code",
   "execution_count": 84,
   "id": "4f45bd94",
   "metadata": {},
   "outputs": [
    {
     "name": "stdout",
     "output_type": "stream",
     "text": [
      "<class 'pandas.core.frame.DataFrame'>\n",
      "RangeIndex: 279 entries, 0 to 278\n",
      "Data columns (total 5 columns):\n",
      " #   Column                          Non-Null Count  Dtype  \n",
      "---  ------                          --------------  -----  \n",
      " 0   ID                              279 non-null    int64  \n",
      " 1   Name                            279 non-null    object \n",
      " 2   Business_Law_I                  168 non-null    float64\n",
      " 3   Introduction_to_Microeconomics  239 non-null    float64\n",
      " 4   Level                           274 non-null    object \n",
      "dtypes: float64(2), int64(1), object(2)\n",
      "memory usage: 11.0+ KB\n"
     ]
    }
   ],
   "source": [
    "df.info()"
   ]
  },
  {
   "cell_type": "code",
   "execution_count": 85,
   "id": "31ff4a27",
   "metadata": {},
   "outputs": [
    {
     "data": {
      "text/plain": [
       "0      15.0\n",
       "1       4.0\n",
       "2       9.0\n",
       "3       NaN\n",
       "4       8.0\n",
       "       ... \n",
       "274     NaN\n",
       "275     NaN\n",
       "276     NaN\n",
       "277     8.0\n",
       "278     2.0\n",
       "Name: Introduction_to_Microeconomics, Length: 279, dtype: float64"
      ]
     },
     "execution_count": 85,
     "metadata": {},
     "output_type": "execute_result"
    }
   ],
   "source": [
    "df.Introduction_to_Microeconomics"
   ]
  },
  {
   "cell_type": "code",
   "execution_count": 86,
   "id": "02167a59",
   "metadata": {},
   "outputs": [
    {
     "data": {
      "image/png": "[encoded data removed]",
      "text/plain": [
       "<Figure size 432x288 with 1 Axes>"
      ]
     },
     "metadata": {
      "needs_background": "light"
     },
     "output_type": "display_data"
    }
   ],
   "source": [
    "import numpy as np\n",
    "import matplotlib.pyplot as plt\n",
    "import seaborn as sns   \n",
    "sns.regplot(x=df.Introduction_to_Microeconomics,y=df.Business_Law_I, data=df, dropna=True,x_jitter=.1,y_jitter=.1) # regplot: regression plot\n",
    "plt.box(False)             # get rid of the box\n",
    "xticks=[0,2,4,6,8,10,12,14,16,18,20]  # doesn't have an impact\n",
    "yticks=[0,2,4,6,8,10,12,14,16,18,20] # doesn't have an impact\n",
    "xlim=(0,20)\n",
    "ylim=(0,20)\n",
    "plt.xlabel('Introduction to Microeconomics')   \n",
    "plt.ylabel('Business Law I') \n",
    "plt.show()"
   ]
  },
  {
   "cell_type": "markdown",
   "id": "4b85a755",
   "metadata": {},
   "source": [
    "## Line of best fit:"
   ]
  },
  {
   "cell_type": "code",
   "execution_count": 87,
   "id": "260bf325",
   "metadata": {},
   "outputs": [
    {
     "name": "stdout",
     "output_type": "stream",
     "text": [
      "                            OLS Regression Results                            \n",
      "==============================================================================\n",
      "Dep. Variable:      df.Business_Law_I   R-squared:                       0.356\n",
      "Model:                            OLS   Adj. R-squared:                  0.352\n",
      "Method:                 Least Squares   F-statistic:                     87.79\n",
      "Date:                Tue, 08 Feb 2022   Prob (F-statistic):           6.94e-17\n",
      "Time:                        21:04:28   Log-Likelihood:                -395.28\n",
      "No. Observations:                 161   AIC:                             794.6\n",
      "Df Residuals:                     159   BIC:                             800.7\n",
      "Df Model:                           1                                         \n",
      "Covariance Type:            nonrobust                                         \n",
      "=====================================================================================================\n",
      "                                        coef    std err          t      P>|t|      [0.025      0.975]\n",
      "-----------------------------------------------------------------------------------------------------\n",
      "Intercept                             4.3550      0.396     11.001      0.000       3.573       5.137\n",
      "df.Introduction_to_Microeconomics     0.4865      0.052      9.370      0.000       0.384       0.589\n",
      "==============================================================================\n",
      "Omnibus:                        0.750   Durbin-Watson:                   2.102\n",
      "Prob(Omnibus):                  0.687   Jarque-Bera (JB):                0.443\n",
      "Skew:                           0.098   Prob(JB):                        0.801\n",
      "Kurtosis:                       3.165   Cond. No.                         13.7\n",
      "==============================================================================\n",
      "\n",
      "Notes:\n",
      "[1] Standard Errors assume that the covariance matrix of the errors is correctly specified.\n"
     ]
    }
   ],
   "source": [
    "import statsmodels.api as sms\n",
    "import statsmodels.formula.api as smf\n",
    "# Fit regression model:\n",
    "results = smf.ols('df.Business_Law_I ~ df.Introduction_to_Microeconomics', data=df).fit()\n",
    "# Inspect the results:\n",
    "print(results.summary())"
   ]
  },
  {
   "cell_type": "markdown",
   "id": "bb519311",
   "metadata": {},
   "source": [
    "## Correlation:"
   ]
  },
  {
   "cell_type": "code",
   "execution_count": 88,
   "id": "b9372e00",
   "metadata": {},
   "outputs": [
    {
     "data": {
      "text/plain": [
       "0.5964296810161691"
      ]
     },
     "execution_count": 88,
     "metadata": {},
     "output_type": "execute_result"
    }
   ],
   "source": [
    "df.Business_Law_I.corr(df.Introduction_to_Microeconomics)"
   ]
  },
  {
   "cell_type": "code",
   "execution_count": 89,
   "id": "b4d92d80",
   "metadata": {},
   "outputs": [
    {
     "data": {
      "text/plain": [
       "0.5964"
      ]
     },
     "execution_count": 89,
     "metadata": {},
     "output_type": "execute_result"
    }
   ],
   "source": [
    "np.round(_,4)"
   ]
  },
  {
   "cell_type": "code",
   "execution_count": null,
   "id": "195d1ad2",
   "metadata": {},
   "outputs": [],
   "source": []
  }
 ],
 "metadata": {
  "kernelspec": {
   "display_name": "Python 3 (ipykernel)",
   "language": "python",
   "name": "python3"
  },
  "language_info": {
   "codemirror_mode": {
    "name": "ipython",
    "version": 3
   },
   "file_extension": ".py",
   "mimetype": "text/x-python",
   "name": "python",
   "nbconvert_exporter": "python",
   "pygments_lexer": "ipython3",
   "version": "3.9.7"
  }
 },
 "nbformat": 4,
 "nbformat_minor": 5
}
