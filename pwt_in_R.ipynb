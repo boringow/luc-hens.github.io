{
 "cells": [
  {
   "cell_type": "markdown",
   "id": "a6b9d253",
   "metadata": {},
   "source": [
    "# Penn World Table in R"
   ]
  },
  {
   "cell_type": "markdown",
   "id": "26fe762f",
   "metadata": {},
   "source": [
    "Author: Luc Hens\n",
    "\n",
    "Version: 25 January 2022\n",
    "\n",
    "Description: Illustrates how to work with the Penn World Table in R. "
   ]
  },
  {
   "cell_type": "markdown",
   "id": "c0a67eaf",
   "metadata": {},
   "source": [
    "There are two ways to run the R code in this document. If you prefer using **RStudio**, start an RStudio session by double-clicking the RStudio icon in your Applications folder. In RStudio, do File > New File > R Script. Copy the `code` from the `grey boxes` in this document and paste it in the R Script panel (the upper left panel). Save the script file in RStudio: File > Save to something like `macroeconomics-research-project.R` (R script files have names with as extension: `.R`). You can than later open the script file in RStudio, edit it, run the code etc. If you prefer using **Jupyter Notebook**, download the notebook file (`pwt_in_R.ipynb`). Download and install Anaconda-Navigator (if you took the Business Information Systems / Bedrijfsinformatica course you already did so to run Python in Spyder). First, we have to create an Start an Anaconda-Navigator environment to run R (you only have to do this once). Anaconda-Navigator. In the left panel, click on Environments. At the bottom of the new panel, click Create (+). In the dialog window, give the new environment a name (e.g., renvironment). Uncheck the Python box and check the R box. Click create. (Creating the new environment make take a while). Once finished, the Anaconda panel shows the new environment that can run R code. You have to do all this only once; from now on, you can run R code in a Jupyter notebook.  Here's how. In teh Anaconda_Navigator start screen, click Environments. Click the button next to \"renvironment\" and select Open with Jupyter Notebook. In the window of your default browser, a Jupyter Notebook session starts. In the Jupyter Notebook menu, select File > Open... and open the `pwt_in_R.ipynb` notebook. Rename the notebook to something like `macroeconomics-research-project.ipynb` (Jupyter Notebook files have names with as extension: `.ipynb`). You can now edit the notebook, run code etc. Don't forget to save the file after you made changes (in the Jupyter Notebook menu: File > Save)."
   ]
  },
  {
   "cell_type": "markdown",
   "id": "f3a61653",
   "metadata": {},
   "source": [
    "Install the R package `pwt10` (make sure you are connected to the internet):"
   ]
  },
  {
   "cell_type": "code",
   "execution_count": 1,
   "id": "5cf4e0a5",
   "metadata": {},
   "outputs": [],
   "source": [
    "install.packages(\"pwt10\")"
   ]
  },
  {
   "cell_type": "markdown",
   "id": "c0637a61",
   "metadata": {},
   "source": [
    "(You only have to this the first time you use the `pwt10` package on your computer.)"
   ]
  },
  {
   "cell_type": "markdown",
   "id": "9ff2e337",
   "metadata": {},
   "source": [
    "Call the `pwt10` library, load the data, and attach the data to a dataframe:"
   ]
  },
  {
   "cell_type": "code",
   "execution_count": 2,
   "id": "b3e3cd3d",
   "metadata": {},
   "outputs": [],
   "source": [
    "library(pwt10)\n",
    "data(pwt10.0)\n",
    "attach(pwt10.0)"
   ]
  },
  {
   "cell_type": "markdown",
   "id": "4f3446ae",
   "metadata": {},
   "source": [
    "This shows how you should cite the `pwt10` package:"
   ]
  },
  {
   "cell_type": "code",
   "execution_count": 3,
   "id": "f9bdbe74",
   "metadata": {},
   "outputs": [
    {
     "data": {
      "text/plain": [
       "\n",
       "When using pwt10 in publications, please cite both the pwt10 package\n",
       "and the Penn World Table itself:\n",
       "\n",
       "Zeileis A (2021). _pwt10: Penn World Table (Version 10.x)_. R package\n",
       "version 10.0-0, <URL: https://CRAN.R-project.org/package=pwt10>.\n",
       "\n",
       "To cite the Penn World Table (version 10.x), please use:\n",
       "\n",
       "Feenstra RC, Inklaar R, Timmer MP (2015). “The Next Generation of the\n",
       "Penn World Table.” _American Economic Review_, *105*(10), 3150-3182.\n",
       "<URL: http://www.ggdc.net/pwt/>.\n",
       "\n",
       "To see these entries in BibTeX format, use 'print(<citation>,\n",
       "bibtex=TRUE)', 'toBibtex(.)', or set\n",
       "'options(citation.bibtex.max=999)'.\n"
      ]
     },
     "metadata": {},
     "output_type": "display_data"
    }
   ],
   "source": [
    "citation(package=\"pwt10\")"
   ]
  },
  {
   "cell_type": "markdown",
   "id": "0d621994",
   "metadata": {},
   "source": [
    "`help(pwt10.0)` displays the help file for the package, with a decsription of the data set and the variables:"
   ]
  },
  {
   "cell_type": "code",
   "execution_count": 4,
   "id": "2c06359b",
   "metadata": {},
   "outputs": [],
   "source": [
    "help(pwt10.0)"
   ]
  },
  {
   "cell_type": "markdown",
   "id": "7ad58d04",
   "metadata": {},
   "source": [
    "The help file opens in a separate panel. You can close the panel by clicking the x on the top right."
   ]
  },
  {
   "cell_type": "markdown",
   "id": "ff0e0883",
   "metadata": {},
   "source": [
    "To get a list of the variables:"
   ]
  },
  {
   "cell_type": "code",
   "execution_count": 5,
   "id": "50a003e2",
   "metadata": {},
   "outputs": [
    {
     "data": {
      "text/html": [
       "<ol class=list-inline>\n",
       "\t<li>'country'</li>\n",
       "\t<li>'isocode'</li>\n",
       "\t<li>'year'</li>\n",
       "\t<li>'currency'</li>\n",
       "\t<li>'rgdpe'</li>\n",
       "\t<li>'rgdpo'</li>\n",
       "\t<li>'pop'</li>\n",
       "\t<li>'emp'</li>\n",
       "\t<li>'avh'</li>\n",
       "\t<li>'hc'</li>\n",
       "\t<li>'ccon'</li>\n",
       "\t<li>'cda'</li>\n",
       "\t<li>'cgdpe'</li>\n",
       "\t<li>'cgdpo'</li>\n",
       "\t<li>'cn'</li>\n",
       "\t<li>'ck'</li>\n",
       "\t<li>'ctfp'</li>\n",
       "\t<li>'cwtfp'</li>\n",
       "\t<li>'rgdpna'</li>\n",
       "\t<li>'rconna'</li>\n",
       "\t<li>'rdana'</li>\n",
       "\t<li>'rnna'</li>\n",
       "\t<li>'rkna'</li>\n",
       "\t<li>'rtfpna'</li>\n",
       "\t<li>'rwtfpna'</li>\n",
       "\t<li>'labsh'</li>\n",
       "\t<li>'irr'</li>\n",
       "\t<li>'delta'</li>\n",
       "\t<li>'xr'</li>\n",
       "\t<li>'pl_con'</li>\n",
       "\t<li>'pl_da'</li>\n",
       "\t<li>'pl_gdpo'</li>\n",
       "\t<li>'i_cig'</li>\n",
       "\t<li>'i_xm'</li>\n",
       "\t<li>'i_xr'</li>\n",
       "\t<li>'i_outlier'</li>\n",
       "\t<li>'i_irr'</li>\n",
       "\t<li>'cor_exp'</li>\n",
       "\t<li>'statcap'</li>\n",
       "\t<li>'csh_c'</li>\n",
       "\t<li>'csh_i'</li>\n",
       "\t<li>'csh_g'</li>\n",
       "\t<li>'csh_x'</li>\n",
       "\t<li>'csh_m'</li>\n",
       "\t<li>'csh_r'</li>\n",
       "\t<li>'pl_c'</li>\n",
       "\t<li>'pl_i'</li>\n",
       "\t<li>'pl_g'</li>\n",
       "\t<li>'pl_x'</li>\n",
       "\t<li>'pl_m'</li>\n",
       "\t<li>'pl_n'</li>\n",
       "\t<li>'pl_k'</li>\n",
       "</ol>\n"
      ],
      "text/latex": [
       "\\begin{enumerate*}\n",
       "\\item 'country'\n",
       "\\item 'isocode'\n",
       "\\item 'year'\n",
       "\\item 'currency'\n",
       "\\item 'rgdpe'\n",
       "\\item 'rgdpo'\n",
       "\\item 'pop'\n",
       "\\item 'emp'\n",
       "\\item 'avh'\n",
       "\\item 'hc'\n",
       "\\item 'ccon'\n",
       "\\item 'cda'\n",
       "\\item 'cgdpe'\n",
       "\\item 'cgdpo'\n",
       "\\item 'cn'\n",
       "\\item 'ck'\n",
       "\\item 'ctfp'\n",
       "\\item 'cwtfp'\n",
       "\\item 'rgdpna'\n",
       "\\item 'rconna'\n",
       "\\item 'rdana'\n",
       "\\item 'rnna'\n",
       "\\item 'rkna'\n",
       "\\item 'rtfpna'\n",
       "\\item 'rwtfpna'\n",
       "\\item 'labsh'\n",
       "\\item 'irr'\n",
       "\\item 'delta'\n",
       "\\item 'xr'\n",
       "\\item 'pl\\_con'\n",
       "\\item 'pl\\_da'\n",
       "\\item 'pl\\_gdpo'\n",
       "\\item 'i\\_cig'\n",
       "\\item 'i\\_xm'\n",
       "\\item 'i\\_xr'\n",
       "\\item 'i\\_outlier'\n",
       "\\item 'i\\_irr'\n",
       "\\item 'cor\\_exp'\n",
       "\\item 'statcap'\n",
       "\\item 'csh\\_c'\n",
       "\\item 'csh\\_i'\n",
       "\\item 'csh\\_g'\n",
       "\\item 'csh\\_x'\n",
       "\\item 'csh\\_m'\n",
       "\\item 'csh\\_r'\n",
       "\\item 'pl\\_c'\n",
       "\\item 'pl\\_i'\n",
       "\\item 'pl\\_g'\n",
       "\\item 'pl\\_x'\n",
       "\\item 'pl\\_m'\n",
       "\\item 'pl\\_n'\n",
       "\\item 'pl\\_k'\n",
       "\\end{enumerate*}\n"
      ],
      "text/markdown": [
       "1. 'country'\n",
       "2. 'isocode'\n",
       "3. 'year'\n",
       "4. 'currency'\n",
       "5. 'rgdpe'\n",
       "6. 'rgdpo'\n",
       "7. 'pop'\n",
       "8. 'emp'\n",
       "9. 'avh'\n",
       "10. 'hc'\n",
       "11. 'ccon'\n",
       "12. 'cda'\n",
       "13. 'cgdpe'\n",
       "14. 'cgdpo'\n",
       "15. 'cn'\n",
       "16. 'ck'\n",
       "17. 'ctfp'\n",
       "18. 'cwtfp'\n",
       "19. 'rgdpna'\n",
       "20. 'rconna'\n",
       "21. 'rdana'\n",
       "22. 'rnna'\n",
       "23. 'rkna'\n",
       "24. 'rtfpna'\n",
       "25. 'rwtfpna'\n",
       "26. 'labsh'\n",
       "27. 'irr'\n",
       "28. 'delta'\n",
       "29. 'xr'\n",
       "30. 'pl_con'\n",
       "31. 'pl_da'\n",
       "32. 'pl_gdpo'\n",
       "33. 'i_cig'\n",
       "34. 'i_xm'\n",
       "35. 'i_xr'\n",
       "36. 'i_outlier'\n",
       "37. 'i_irr'\n",
       "38. 'cor_exp'\n",
       "39. 'statcap'\n",
       "40. 'csh_c'\n",
       "41. 'csh_i'\n",
       "42. 'csh_g'\n",
       "43. 'csh_x'\n",
       "44. 'csh_m'\n",
       "45. 'csh_r'\n",
       "46. 'pl_c'\n",
       "47. 'pl_i'\n",
       "48. 'pl_g'\n",
       "49. 'pl_x'\n",
       "50. 'pl_m'\n",
       "51. 'pl_n'\n",
       "52. 'pl_k'\n",
       "\n",
       "\n"
      ],
      "text/plain": [
       " [1] \"country\"   \"isocode\"   \"year\"      \"currency\"  \"rgdpe\"     \"rgdpo\"    \n",
       " [7] \"pop\"       \"emp\"       \"avh\"       \"hc\"        \"ccon\"      \"cda\"      \n",
       "[13] \"cgdpe\"     \"cgdpo\"     \"cn\"        \"ck\"        \"ctfp\"      \"cwtfp\"    \n",
       "[19] \"rgdpna\"    \"rconna\"    \"rdana\"     \"rnna\"      \"rkna\"      \"rtfpna\"   \n",
       "[25] \"rwtfpna\"   \"labsh\"     \"irr\"       \"delta\"     \"xr\"        \"pl_con\"   \n",
       "[31] \"pl_da\"     \"pl_gdpo\"   \"i_cig\"     \"i_xm\"      \"i_xr\"      \"i_outlier\"\n",
       "[37] \"i_irr\"     \"cor_exp\"   \"statcap\"   \"csh_c\"     \"csh_i\"     \"csh_g\"    \n",
       "[43] \"csh_x\"     \"csh_m\"     \"csh_r\"     \"pl_c\"      \"pl_i\"      \"pl_g\"     \n",
       "[49] \"pl_x\"      \"pl_m\"      \"pl_n\"      \"pl_k\"     "
      ]
     },
     "metadata": {},
     "output_type": "display_data"
    }
   ],
   "source": [
    "names(pwt10.0)"
   ]
  },
  {
   "cell_type": "markdown",
   "id": "9bd8fde2",
   "metadata": {},
   "source": [
    "To get a list of the countries:"
   ]
  },
  {
   "cell_type": "code",
   "execution_count": 6,
   "id": "2697c5bd",
   "metadata": {},
   "outputs": [
    {
     "data": {
      "text/html": [
       "<ol class=list-inline>\n",
       "\t<li>'Aruba'</li>\n",
       "\t<li>'Angola'</li>\n",
       "\t<li>'Anguilla'</li>\n",
       "\t<li>'Albania'</li>\n",
       "\t<li>'United Arab Emirates'</li>\n",
       "\t<li>'Argentina'</li>\n",
       "\t<li>'Armenia'</li>\n",
       "\t<li>'Antigua and Barbuda'</li>\n",
       "\t<li>'Australia'</li>\n",
       "\t<li>'Austria'</li>\n",
       "\t<li>'Azerbaijan'</li>\n",
       "\t<li>'Burundi'</li>\n",
       "\t<li>'Belgium'</li>\n",
       "\t<li>'Benin'</li>\n",
       "\t<li>'Burkina Faso'</li>\n",
       "\t<li>'Bangladesh'</li>\n",
       "\t<li>'Bulgaria'</li>\n",
       "\t<li>'Bahrain'</li>\n",
       "\t<li>'Bahamas'</li>\n",
       "\t<li>'Bosnia and Herzegovina'</li>\n",
       "\t<li>'Belarus'</li>\n",
       "\t<li>'Belize'</li>\n",
       "\t<li>'Bermuda'</li>\n",
       "\t<li>'Bolivia (Plurinational State of)'</li>\n",
       "\t<li>'Brazil'</li>\n",
       "\t<li>'Barbados'</li>\n",
       "\t<li>'Brunei Darussalam'</li>\n",
       "\t<li>'Bhutan'</li>\n",
       "\t<li>'Botswana'</li>\n",
       "\t<li>'Central African Republic'</li>\n",
       "\t<li>'Canada'</li>\n",
       "\t<li>'Switzerland'</li>\n",
       "\t<li>'Chile'</li>\n",
       "\t<li>'China'</li>\n",
       "\t<li>'Cote d\\'Ivoire'</li>\n",
       "\t<li>'Cameroon'</li>\n",
       "\t<li>'Congo, Democratic Republic'</li>\n",
       "\t<li>'Congo'</li>\n",
       "\t<li>'Colombia'</li>\n",
       "\t<li>'Comoros'</li>\n",
       "\t<li>'Cabo Verde'</li>\n",
       "\t<li>'Costa Rica'</li>\n",
       "\t<li>'Curacao'</li>\n",
       "\t<li>'Cayman Islands'</li>\n",
       "\t<li>'Cyprus'</li>\n",
       "\t<li>'Czech Republic'</li>\n",
       "\t<li>'Germany'</li>\n",
       "\t<li>'Djibouti'</li>\n",
       "\t<li>'Dominica'</li>\n",
       "\t<li>'Denmark'</li>\n",
       "\t<li>'Dominican Republic'</li>\n",
       "\t<li>'Algeria'</li>\n",
       "\t<li>'Ecuador'</li>\n",
       "\t<li>'Egypt'</li>\n",
       "\t<li>'Spain'</li>\n",
       "\t<li>'Estonia'</li>\n",
       "\t<li>'Ethiopia'</li>\n",
       "\t<li>'Finland'</li>\n",
       "\t<li>'Fiji'</li>\n",
       "\t<li>'France'</li>\n",
       "\t<li>'Gabon'</li>\n",
       "\t<li>'United Kingdom'</li>\n",
       "\t<li>'Georgia'</li>\n",
       "\t<li>'Ghana'</li>\n",
       "\t<li>'Guinea'</li>\n",
       "\t<li>'Gambia'</li>\n",
       "\t<li>'Guinea-Bissau'</li>\n",
       "\t<li>'Equatorial Guinea'</li>\n",
       "\t<li>'Greece'</li>\n",
       "\t<li>'Grenada'</li>\n",
       "\t<li>'Guatemala'</li>\n",
       "\t<li>'Guyana'</li>\n",
       "\t<li>'China, Hong Kong SAR'</li>\n",
       "\t<li>'Honduras'</li>\n",
       "\t<li>'Croatia'</li>\n",
       "\t<li>'Haiti'</li>\n",
       "\t<li>'Hungary'</li>\n",
       "\t<li>'Indonesia'</li>\n",
       "\t<li>'India'</li>\n",
       "\t<li>'Ireland'</li>\n",
       "\t<li>'Iran (Islamic Republic of)'</li>\n",
       "\t<li>'Iraq'</li>\n",
       "\t<li>'Iceland'</li>\n",
       "\t<li>'Israel'</li>\n",
       "\t<li>'Italy'</li>\n",
       "\t<li>'Jamaica'</li>\n",
       "\t<li>'Jordan'</li>\n",
       "\t<li>'Japan'</li>\n",
       "\t<li>'Kazakhstan'</li>\n",
       "\t<li>'Kenya'</li>\n",
       "\t<li>'Kyrgyzstan'</li>\n",
       "\t<li>'Cambodia'</li>\n",
       "\t<li>'Saint Kitts and Nevis'</li>\n",
       "\t<li>'Republic of Korea'</li>\n",
       "\t<li>'Kuwait'</li>\n",
       "\t<li>'Lao People\\'s DR'</li>\n",
       "\t<li>'Lebanon'</li>\n",
       "\t<li>'Liberia'</li>\n",
       "\t<li>'Saint Lucia'</li>\n",
       "\t<li>'Sri Lanka'</li>\n",
       "\t<li>'Lesotho'</li>\n",
       "\t<li>'Lithuania'</li>\n",
       "\t<li>'Luxembourg'</li>\n",
       "\t<li>'Latvia'</li>\n",
       "\t<li>'China, Macao SAR'</li>\n",
       "\t<li>'Morocco'</li>\n",
       "\t<li>'Republic of Moldova'</li>\n",
       "\t<li>'Madagascar'</li>\n",
       "\t<li>'Maldives'</li>\n",
       "\t<li>'Mexico'</li>\n",
       "\t<li>'North Macedonia'</li>\n",
       "\t<li>'Mali'</li>\n",
       "\t<li>'Malta'</li>\n",
       "\t<li>'Myanmar'</li>\n",
       "\t<li>'Montenegro'</li>\n",
       "\t<li>'Mongolia'</li>\n",
       "\t<li>'Mozambique'</li>\n",
       "\t<li>'Mauritania'</li>\n",
       "\t<li>'Montserrat'</li>\n",
       "\t<li>'Mauritius'</li>\n",
       "\t<li>'Malawi'</li>\n",
       "\t<li>'Malaysia'</li>\n",
       "\t<li>'Namibia'</li>\n",
       "\t<li>'Niger'</li>\n",
       "\t<li>'Nigeria'</li>\n",
       "\t<li>'Nicaragua'</li>\n",
       "\t<li>'Netherlands'</li>\n",
       "\t<li>'Norway'</li>\n",
       "\t<li>'Nepal'</li>\n",
       "\t<li>'New Zealand'</li>\n",
       "\t<li>'Oman'</li>\n",
       "\t<li>'Pakistan'</li>\n",
       "\t<li>'Panama'</li>\n",
       "\t<li>'Peru'</li>\n",
       "\t<li>'Philippines'</li>\n",
       "\t<li>'Poland'</li>\n",
       "\t<li>'Portugal'</li>\n",
       "\t<li>'Paraguay'</li>\n",
       "\t<li>'State of Palestine'</li>\n",
       "\t<li>'Qatar'</li>\n",
       "\t<li>'Romania'</li>\n",
       "\t<li>'Russian Federation'</li>\n",
       "\t<li>'Rwanda'</li>\n",
       "\t<li>'Saudi Arabia'</li>\n",
       "\t<li>'Sudan'</li>\n",
       "\t<li>'Senegal'</li>\n",
       "\t<li>'Singapore'</li>\n",
       "\t<li>'Sierra Leone'</li>\n",
       "\t<li>'El Salvador'</li>\n",
       "\t<li>'Serbia'</li>\n",
       "\t<li>'Sao Tome and Principe'</li>\n",
       "\t<li>'Suriname'</li>\n",
       "\t<li>'Slovakia'</li>\n",
       "\t<li>'Slovenia'</li>\n",
       "\t<li>'Sweden'</li>\n",
       "\t<li>'Eswatini'</li>\n",
       "\t<li>'Sint Maarten (Dutch part)'</li>\n",
       "\t<li>'Seychelles'</li>\n",
       "\t<li>'Syrian Arab Republic'</li>\n",
       "\t<li>'Turks and Caicos Islands'</li>\n",
       "\t<li>'Chad'</li>\n",
       "\t<li>'Togo'</li>\n",
       "\t<li>'Thailand'</li>\n",
       "\t<li>'Tajikistan'</li>\n",
       "\t<li>'Turkmenistan'</li>\n",
       "\t<li>'Trinidad and Tobago'</li>\n",
       "\t<li>'Tunisia'</li>\n",
       "\t<li>'Turkey'</li>\n",
       "\t<li>'Taiwan'</li>\n",
       "\t<li>'U.R. of Tanzania: Mainland'</li>\n",
       "\t<li>'Uganda'</li>\n",
       "\t<li>'Ukraine'</li>\n",
       "\t<li>'Uruguay'</li>\n",
       "\t<li>'United States of America'</li>\n",
       "\t<li>'Uzbekistan'</li>\n",
       "\t<li>'St. Vincent &amp; Grenadines'</li>\n",
       "\t<li>'Venezuela (Bolivarian Republic of)'</li>\n",
       "\t<li>'British Virgin Islands'</li>\n",
       "\t<li>'Viet Nam'</li>\n",
       "\t<li>'Yemen'</li>\n",
       "\t<li>'South Africa'</li>\n",
       "\t<li>'Zambia'</li>\n",
       "\t<li>'Zimbabwe'</li>\n",
       "</ol>\n"
      ],
      "text/latex": [
       "\\begin{enumerate*}\n",
       "\\item 'Aruba'\n",
       "\\item 'Angola'\n",
       "\\item 'Anguilla'\n",
       "\\item 'Albania'\n",
       "\\item 'United Arab Emirates'\n",
       "\\item 'Argentina'\n",
       "\\item 'Armenia'\n",
       "\\item 'Antigua and Barbuda'\n",
       "\\item 'Australia'\n",
       "\\item 'Austria'\n",
       "\\item 'Azerbaijan'\n",
       "\\item 'Burundi'\n",
       "\\item 'Belgium'\n",
       "\\item 'Benin'\n",
       "\\item 'Burkina Faso'\n",
       "\\item 'Bangladesh'\n",
       "\\item 'Bulgaria'\n",
       "\\item 'Bahrain'\n",
       "\\item 'Bahamas'\n",
       "\\item 'Bosnia and Herzegovina'\n",
       "\\item 'Belarus'\n",
       "\\item 'Belize'\n",
       "\\item 'Bermuda'\n",
       "\\item 'Bolivia (Plurinational State of)'\n",
       "\\item 'Brazil'\n",
       "\\item 'Barbados'\n",
       "\\item 'Brunei Darussalam'\n",
       "\\item 'Bhutan'\n",
       "\\item 'Botswana'\n",
       "\\item 'Central African Republic'\n",
       "\\item 'Canada'\n",
       "\\item 'Switzerland'\n",
       "\\item 'Chile'\n",
       "\\item 'China'\n",
       "\\item 'Cote d\\textbackslash{}'Ivoire'\n",
       "\\item 'Cameroon'\n",
       "\\item 'Congo, Democratic Republic'\n",
       "\\item 'Congo'\n",
       "\\item 'Colombia'\n",
       "\\item 'Comoros'\n",
       "\\item 'Cabo Verde'\n",
       "\\item 'Costa Rica'\n",
       "\\item 'Curacao'\n",
       "\\item 'Cayman Islands'\n",
       "\\item 'Cyprus'\n",
       "\\item 'Czech Republic'\n",
       "\\item 'Germany'\n",
       "\\item 'Djibouti'\n",
       "\\item 'Dominica'\n",
       "\\item 'Denmark'\n",
       "\\item 'Dominican Republic'\n",
       "\\item 'Algeria'\n",
       "\\item 'Ecuador'\n",
       "\\item 'Egypt'\n",
       "\\item 'Spain'\n",
       "\\item 'Estonia'\n",
       "\\item 'Ethiopia'\n",
       "\\item 'Finland'\n",
       "\\item 'Fiji'\n",
       "\\item 'France'\n",
       "\\item 'Gabon'\n",
       "\\item 'United Kingdom'\n",
       "\\item 'Georgia'\n",
       "\\item 'Ghana'\n",
       "\\item 'Guinea'\n",
       "\\item 'Gambia'\n",
       "\\item 'Guinea-Bissau'\n",
       "\\item 'Equatorial Guinea'\n",
       "\\item 'Greece'\n",
       "\\item 'Grenada'\n",
       "\\item 'Guatemala'\n",
       "\\item 'Guyana'\n",
       "\\item 'China, Hong Kong SAR'\n",
       "\\item 'Honduras'\n",
       "\\item 'Croatia'\n",
       "\\item 'Haiti'\n",
       "\\item 'Hungary'\n",
       "\\item 'Indonesia'\n",
       "\\item 'India'\n",
       "\\item 'Ireland'\n",
       "\\item 'Iran (Islamic Republic of)'\n",
       "\\item 'Iraq'\n",
       "\\item 'Iceland'\n",
       "\\item 'Israel'\n",
       "\\item 'Italy'\n",
       "\\item 'Jamaica'\n",
       "\\item 'Jordan'\n",
       "\\item 'Japan'\n",
       "\\item 'Kazakhstan'\n",
       "\\item 'Kenya'\n",
       "\\item 'Kyrgyzstan'\n",
       "\\item 'Cambodia'\n",
       "\\item 'Saint Kitts and Nevis'\n",
       "\\item 'Republic of Korea'\n",
       "\\item 'Kuwait'\n",
       "\\item 'Lao People\\textbackslash{}'s DR'\n",
       "\\item 'Lebanon'\n",
       "\\item 'Liberia'\n",
       "\\item 'Saint Lucia'\n",
       "\\item 'Sri Lanka'\n",
       "\\item 'Lesotho'\n",
       "\\item 'Lithuania'\n",
       "\\item 'Luxembourg'\n",
       "\\item 'Latvia'\n",
       "\\item 'China, Macao SAR'\n",
       "\\item 'Morocco'\n",
       "\\item 'Republic of Moldova'\n",
       "\\item 'Madagascar'\n",
       "\\item 'Maldives'\n",
       "\\item 'Mexico'\n",
       "\\item 'North Macedonia'\n",
       "\\item 'Mali'\n",
       "\\item 'Malta'\n",
       "\\item 'Myanmar'\n",
       "\\item 'Montenegro'\n",
       "\\item 'Mongolia'\n",
       "\\item 'Mozambique'\n",
       "\\item 'Mauritania'\n",
       "\\item 'Montserrat'\n",
       "\\item 'Mauritius'\n",
       "\\item 'Malawi'\n",
       "\\item 'Malaysia'\n",
       "\\item 'Namibia'\n",
       "\\item 'Niger'\n",
       "\\item 'Nigeria'\n",
       "\\item 'Nicaragua'\n",
       "\\item 'Netherlands'\n",
       "\\item 'Norway'\n",
       "\\item 'Nepal'\n",
       "\\item 'New Zealand'\n",
       "\\item 'Oman'\n",
       "\\item 'Pakistan'\n",
       "\\item 'Panama'\n",
       "\\item 'Peru'\n",
       "\\item 'Philippines'\n",
       "\\item 'Poland'\n",
       "\\item 'Portugal'\n",
       "\\item 'Paraguay'\n",
       "\\item 'State of Palestine'\n",
       "\\item 'Qatar'\n",
       "\\item 'Romania'\n",
       "\\item 'Russian Federation'\n",
       "\\item 'Rwanda'\n",
       "\\item 'Saudi Arabia'\n",
       "\\item 'Sudan'\n",
       "\\item 'Senegal'\n",
       "\\item 'Singapore'\n",
       "\\item 'Sierra Leone'\n",
       "\\item 'El Salvador'\n",
       "\\item 'Serbia'\n",
       "\\item 'Sao Tome and Principe'\n",
       "\\item 'Suriname'\n",
       "\\item 'Slovakia'\n",
       "\\item 'Slovenia'\n",
       "\\item 'Sweden'\n",
       "\\item 'Eswatini'\n",
       "\\item 'Sint Maarten (Dutch part)'\n",
       "\\item 'Seychelles'\n",
       "\\item 'Syrian Arab Republic'\n",
       "\\item 'Turks and Caicos Islands'\n",
       "\\item 'Chad'\n",
       "\\item 'Togo'\n",
       "\\item 'Thailand'\n",
       "\\item 'Tajikistan'\n",
       "\\item 'Turkmenistan'\n",
       "\\item 'Trinidad and Tobago'\n",
       "\\item 'Tunisia'\n",
       "\\item 'Turkey'\n",
       "\\item 'Taiwan'\n",
       "\\item 'U.R. of Tanzania: Mainland'\n",
       "\\item 'Uganda'\n",
       "\\item 'Ukraine'\n",
       "\\item 'Uruguay'\n",
       "\\item 'United States of America'\n",
       "\\item 'Uzbekistan'\n",
       "\\item 'St. Vincent \\& Grenadines'\n",
       "\\item 'Venezuela (Bolivarian Republic of)'\n",
       "\\item 'British Virgin Islands'\n",
       "\\item 'Viet Nam'\n",
       "\\item 'Yemen'\n",
       "\\item 'South Africa'\n",
       "\\item 'Zambia'\n",
       "\\item 'Zimbabwe'\n",
       "\\end{enumerate*}\n"
      ],
      "text/markdown": [
       "1. 'Aruba'\n",
       "2. 'Angola'\n",
       "3. 'Anguilla'\n",
       "4. 'Albania'\n",
       "5. 'United Arab Emirates'\n",
       "6. 'Argentina'\n",
       "7. 'Armenia'\n",
       "8. 'Antigua and Barbuda'\n",
       "9. 'Australia'\n",
       "10. 'Austria'\n",
       "11. 'Azerbaijan'\n",
       "12. 'Burundi'\n",
       "13. 'Belgium'\n",
       "14. 'Benin'\n",
       "15. 'Burkina Faso'\n",
       "16. 'Bangladesh'\n",
       "17. 'Bulgaria'\n",
       "18. 'Bahrain'\n",
       "19. 'Bahamas'\n",
       "20. 'Bosnia and Herzegovina'\n",
       "21. 'Belarus'\n",
       "22. 'Belize'\n",
       "23. 'Bermuda'\n",
       "24. 'Bolivia (Plurinational State of)'\n",
       "25. 'Brazil'\n",
       "26. 'Barbados'\n",
       "27. 'Brunei Darussalam'\n",
       "28. 'Bhutan'\n",
       "29. 'Botswana'\n",
       "30. 'Central African Republic'\n",
       "31. 'Canada'\n",
       "32. 'Switzerland'\n",
       "33. 'Chile'\n",
       "34. 'China'\n",
       "35. 'Cote d\\'Ivoire'\n",
       "36. 'Cameroon'\n",
       "37. 'Congo, Democratic Republic'\n",
       "38. 'Congo'\n",
       "39. 'Colombia'\n",
       "40. 'Comoros'\n",
       "41. 'Cabo Verde'\n",
       "42. 'Costa Rica'\n",
       "43. 'Curacao'\n",
       "44. 'Cayman Islands'\n",
       "45. 'Cyprus'\n",
       "46. 'Czech Republic'\n",
       "47. 'Germany'\n",
       "48. 'Djibouti'\n",
       "49. 'Dominica'\n",
       "50. 'Denmark'\n",
       "51. 'Dominican Republic'\n",
       "52. 'Algeria'\n",
       "53. 'Ecuador'\n",
       "54. 'Egypt'\n",
       "55. 'Spain'\n",
       "56. 'Estonia'\n",
       "57. 'Ethiopia'\n",
       "58. 'Finland'\n",
       "59. 'Fiji'\n",
       "60. 'France'\n",
       "61. 'Gabon'\n",
       "62. 'United Kingdom'\n",
       "63. 'Georgia'\n",
       "64. 'Ghana'\n",
       "65. 'Guinea'\n",
       "66. 'Gambia'\n",
       "67. 'Guinea-Bissau'\n",
       "68. 'Equatorial Guinea'\n",
       "69. 'Greece'\n",
       "70. 'Grenada'\n",
       "71. 'Guatemala'\n",
       "72. 'Guyana'\n",
       "73. 'China, Hong Kong SAR'\n",
       "74. 'Honduras'\n",
       "75. 'Croatia'\n",
       "76. 'Haiti'\n",
       "77. 'Hungary'\n",
       "78. 'Indonesia'\n",
       "79. 'India'\n",
       "80. 'Ireland'\n",
       "81. 'Iran (Islamic Republic of)'\n",
       "82. 'Iraq'\n",
       "83. 'Iceland'\n",
       "84. 'Israel'\n",
       "85. 'Italy'\n",
       "86. 'Jamaica'\n",
       "87. 'Jordan'\n",
       "88. 'Japan'\n",
       "89. 'Kazakhstan'\n",
       "90. 'Kenya'\n",
       "91. 'Kyrgyzstan'\n",
       "92. 'Cambodia'\n",
       "93. 'Saint Kitts and Nevis'\n",
       "94. 'Republic of Korea'\n",
       "95. 'Kuwait'\n",
       "96. 'Lao People\\'s DR'\n",
       "97. 'Lebanon'\n",
       "98. 'Liberia'\n",
       "99. 'Saint Lucia'\n",
       "100. 'Sri Lanka'\n",
       "101. 'Lesotho'\n",
       "102. 'Lithuania'\n",
       "103. 'Luxembourg'\n",
       "104. 'Latvia'\n",
       "105. 'China, Macao SAR'\n",
       "106. 'Morocco'\n",
       "107. 'Republic of Moldova'\n",
       "108. 'Madagascar'\n",
       "109. 'Maldives'\n",
       "110. 'Mexico'\n",
       "111. 'North Macedonia'\n",
       "112. 'Mali'\n",
       "113. 'Malta'\n",
       "114. 'Myanmar'\n",
       "115. 'Montenegro'\n",
       "116. 'Mongolia'\n",
       "117. 'Mozambique'\n",
       "118. 'Mauritania'\n",
       "119. 'Montserrat'\n",
       "120. 'Mauritius'\n",
       "121. 'Malawi'\n",
       "122. 'Malaysia'\n",
       "123. 'Namibia'\n",
       "124. 'Niger'\n",
       "125. 'Nigeria'\n",
       "126. 'Nicaragua'\n",
       "127. 'Netherlands'\n",
       "128. 'Norway'\n",
       "129. 'Nepal'\n",
       "130. 'New Zealand'\n",
       "131. 'Oman'\n",
       "132. 'Pakistan'\n",
       "133. 'Panama'\n",
       "134. 'Peru'\n",
       "135. 'Philippines'\n",
       "136. 'Poland'\n",
       "137. 'Portugal'\n",
       "138. 'Paraguay'\n",
       "139. 'State of Palestine'\n",
       "140. 'Qatar'\n",
       "141. 'Romania'\n",
       "142. 'Russian Federation'\n",
       "143. 'Rwanda'\n",
       "144. 'Saudi Arabia'\n",
       "145. 'Sudan'\n",
       "146. 'Senegal'\n",
       "147. 'Singapore'\n",
       "148. 'Sierra Leone'\n",
       "149. 'El Salvador'\n",
       "150. 'Serbia'\n",
       "151. 'Sao Tome and Principe'\n",
       "152. 'Suriname'\n",
       "153. 'Slovakia'\n",
       "154. 'Slovenia'\n",
       "155. 'Sweden'\n",
       "156. 'Eswatini'\n",
       "157. 'Sint Maarten (Dutch part)'\n",
       "158. 'Seychelles'\n",
       "159. 'Syrian Arab Republic'\n",
       "160. 'Turks and Caicos Islands'\n",
       "161. 'Chad'\n",
       "162. 'Togo'\n",
       "163. 'Thailand'\n",
       "164. 'Tajikistan'\n",
       "165. 'Turkmenistan'\n",
       "166. 'Trinidad and Tobago'\n",
       "167. 'Tunisia'\n",
       "168. 'Turkey'\n",
       "169. 'Taiwan'\n",
       "170. 'U.R. of Tanzania: Mainland'\n",
       "171. 'Uganda'\n",
       "172. 'Ukraine'\n",
       "173. 'Uruguay'\n",
       "174. 'United States of America'\n",
       "175. 'Uzbekistan'\n",
       "176. 'St. Vincent &amp; Grenadines'\n",
       "177. 'Venezuela (Bolivarian Republic of)'\n",
       "178. 'British Virgin Islands'\n",
       "179. 'Viet Nam'\n",
       "180. 'Yemen'\n",
       "181. 'South Africa'\n",
       "182. 'Zambia'\n",
       "183. 'Zimbabwe'\n",
       "\n",
       "\n"
      ],
      "text/plain": [
       "  [1] \"Aruba\"                              \"Angola\"                            \n",
       "  [3] \"Anguilla\"                           \"Albania\"                           \n",
       "  [5] \"United Arab Emirates\"               \"Argentina\"                         \n",
       "  [7] \"Armenia\"                            \"Antigua and Barbuda\"               \n",
       "  [9] \"Australia\"                          \"Austria\"                           \n",
       " [11] \"Azerbaijan\"                         \"Burundi\"                           \n",
       " [13] \"Belgium\"                            \"Benin\"                             \n",
       " [15] \"Burkina Faso\"                       \"Bangladesh\"                        \n",
       " [17] \"Bulgaria\"                           \"Bahrain\"                           \n",
       " [19] \"Bahamas\"                            \"Bosnia and Herzegovina\"            \n",
       " [21] \"Belarus\"                            \"Belize\"                            \n",
       " [23] \"Bermuda\"                            \"Bolivia (Plurinational State of)\"  \n",
       " [25] \"Brazil\"                             \"Barbados\"                          \n",
       " [27] \"Brunei Darussalam\"                  \"Bhutan\"                            \n",
       " [29] \"Botswana\"                           \"Central African Republic\"          \n",
       " [31] \"Canada\"                             \"Switzerland\"                       \n",
       " [33] \"Chile\"                              \"China\"                             \n",
       " [35] \"Cote d'Ivoire\"                      \"Cameroon\"                          \n",
       " [37] \"Congo, Democratic Republic\"         \"Congo\"                             \n",
       " [39] \"Colombia\"                           \"Comoros\"                           \n",
       " [41] \"Cabo Verde\"                         \"Costa Rica\"                        \n",
       " [43] \"Curacao\"                            \"Cayman Islands\"                    \n",
       " [45] \"Cyprus\"                             \"Czech Republic\"                    \n",
       " [47] \"Germany\"                            \"Djibouti\"                          \n",
       " [49] \"Dominica\"                           \"Denmark\"                           \n",
       " [51] \"Dominican Republic\"                 \"Algeria\"                           \n",
       " [53] \"Ecuador\"                            \"Egypt\"                             \n",
       " [55] \"Spain\"                              \"Estonia\"                           \n",
       " [57] \"Ethiopia\"                           \"Finland\"                           \n",
       " [59] \"Fiji\"                               \"France\"                            \n",
       " [61] \"Gabon\"                              \"United Kingdom\"                    \n",
       " [63] \"Georgia\"                            \"Ghana\"                             \n",
       " [65] \"Guinea\"                             \"Gambia\"                            \n",
       " [67] \"Guinea-Bissau\"                      \"Equatorial Guinea\"                 \n",
       " [69] \"Greece\"                             \"Grenada\"                           \n",
       " [71] \"Guatemala\"                          \"Guyana\"                            \n",
       " [73] \"China, Hong Kong SAR\"               \"Honduras\"                          \n",
       " [75] \"Croatia\"                            \"Haiti\"                             \n",
       " [77] \"Hungary\"                            \"Indonesia\"                         \n",
       " [79] \"India\"                              \"Ireland\"                           \n",
       " [81] \"Iran (Islamic Republic of)\"         \"Iraq\"                              \n",
       " [83] \"Iceland\"                            \"Israel\"                            \n",
       " [85] \"Italy\"                              \"Jamaica\"                           \n",
       " [87] \"Jordan\"                             \"Japan\"                             \n",
       " [89] \"Kazakhstan\"                         \"Kenya\"                             \n",
       " [91] \"Kyrgyzstan\"                         \"Cambodia\"                          \n",
       " [93] \"Saint Kitts and Nevis\"              \"Republic of Korea\"                 \n",
       " [95] \"Kuwait\"                             \"Lao People's DR\"                   \n",
       " [97] \"Lebanon\"                            \"Liberia\"                           \n",
       " [99] \"Saint Lucia\"                        \"Sri Lanka\"                         \n",
       "[101] \"Lesotho\"                            \"Lithuania\"                         \n",
       "[103] \"Luxembourg\"                         \"Latvia\"                            \n",
       "[105] \"China, Macao SAR\"                   \"Morocco\"                           \n",
       "[107] \"Republic of Moldova\"                \"Madagascar\"                        \n",
       "[109] \"Maldives\"                           \"Mexico\"                            \n",
       "[111] \"North Macedonia\"                    \"Mali\"                              \n",
       "[113] \"Malta\"                              \"Myanmar\"                           \n",
       "[115] \"Montenegro\"                         \"Mongolia\"                          \n",
       "[117] \"Mozambique\"                         \"Mauritania\"                        \n",
       "[119] \"Montserrat\"                         \"Mauritius\"                         \n",
       "[121] \"Malawi\"                             \"Malaysia\"                          \n",
       "[123] \"Namibia\"                            \"Niger\"                             \n",
       "[125] \"Nigeria\"                            \"Nicaragua\"                         \n",
       "[127] \"Netherlands\"                        \"Norway\"                            \n",
       "[129] \"Nepal\"                              \"New Zealand\"                       \n",
       "[131] \"Oman\"                               \"Pakistan\"                          \n",
       "[133] \"Panama\"                             \"Peru\"                              \n",
       "[135] \"Philippines\"                        \"Poland\"                            \n",
       "[137] \"Portugal\"                           \"Paraguay\"                          \n",
       "[139] \"State of Palestine\"                 \"Qatar\"                             \n",
       "[141] \"Romania\"                            \"Russian Federation\"                \n",
       "[143] \"Rwanda\"                             \"Saudi Arabia\"                      \n",
       "[145] \"Sudan\"                              \"Senegal\"                           \n",
       "[147] \"Singapore\"                          \"Sierra Leone\"                      \n",
       "[149] \"El Salvador\"                        \"Serbia\"                            \n",
       "[151] \"Sao Tome and Principe\"              \"Suriname\"                          \n",
       "[153] \"Slovakia\"                           \"Slovenia\"                          \n",
       "[155] \"Sweden\"                             \"Eswatini\"                          \n",
       "[157] \"Sint Maarten (Dutch part)\"          \"Seychelles\"                        \n",
       "[159] \"Syrian Arab Republic\"               \"Turks and Caicos Islands\"          \n",
       "[161] \"Chad\"                               \"Togo\"                              \n",
       "[163] \"Thailand\"                           \"Tajikistan\"                        \n",
       "[165] \"Turkmenistan\"                       \"Trinidad and Tobago\"               \n",
       "[167] \"Tunisia\"                            \"Turkey\"                            \n",
       "[169] \"Taiwan\"                             \"U.R. of Tanzania: Mainland\"        \n",
       "[171] \"Uganda\"                             \"Ukraine\"                           \n",
       "[173] \"Uruguay\"                            \"United States of America\"          \n",
       "[175] \"Uzbekistan\"                         \"St. Vincent & Grenadines\"          \n",
       "[177] \"Venezuela (Bolivarian Republic of)\" \"British Virgin Islands\"            \n",
       "[179] \"Viet Nam\"                           \"Yemen\"                             \n",
       "[181] \"South Africa\"                       \"Zambia\"                            \n",
       "[183] \"Zimbabwe\"                          "
      ]
     },
     "metadata": {},
     "output_type": "display_data"
    }
   ],
   "source": [
    "levels(country)"
   ]
  },
  {
   "cell_type": "markdown",
   "id": "97b3281b",
   "metadata": {},
   "source": [
    "Show the last lines of the dataframe:"
   ]
  },
  {
   "cell_type": "code",
   "execution_count": 7,
   "id": "9815bd75",
   "metadata": {},
   "outputs": [
    {
     "data": {
      "text/html": [
       "<table>\n",
       "<thead><tr><th></th><th scope=col>country</th><th scope=col>isocode</th><th scope=col>year</th><th scope=col>currency</th><th scope=col>rgdpe</th><th scope=col>rgdpo</th><th scope=col>pop</th><th scope=col>emp</th><th scope=col>avh</th><th scope=col>hc</th><th scope=col>...</th><th scope=col>csh_x</th><th scope=col>csh_m</th><th scope=col>csh_r</th><th scope=col>pl_c</th><th scope=col>pl_i</th><th scope=col>pl_g</th><th scope=col>pl_x</th><th scope=col>pl_m</th><th scope=col>pl_n</th><th scope=col>pl_k</th></tr></thead>\n",
       "<tbody>\n",
       "\t<tr><th scope=row>ZWE-2014</th><td>Zimbabwe   </td><td>ZWE        </td><td>2014       </td><td>US Dollar  </td><td>37848.04   </td><td>38675.91   </td><td>13.58671   </td><td>6.265931   </td><td>NA         </td><td>2.550258   </td><td>...        </td><td>0.1190498  </td><td>-0.2843523 </td><td> 0.04197797</td><td>0.4960309  </td><td>0.6635631  </td><td>0.5564892  </td><td>0.6794606  </td><td>0.5923634  </td><td>0.4342538  </td><td>1.621305   </td></tr>\n",
       "\t<tr><th scope=row>ZWE-2015</th><td>Zimbabwe   </td><td>ZWE        </td><td>2015       </td><td>US Dollar  </td><td>40128.77   </td><td>39799.66   </td><td>13.81463   </td><td>6.393752   </td><td>NA         </td><td>2.584653   </td><td>...        </td><td>0.1401438  </td><td>-0.2871860 </td><td>-0.05193033</td><td>0.4792130  </td><td>0.6516509  </td><td>0.5423669  </td><td>0.6167260  </td><td>0.5341033  </td><td>0.4227642  </td><td>1.534175   </td></tr>\n",
       "\t<tr><th scope=row>ZWE-2016</th><td>Zimbabwe   </td><td>ZWE        </td><td>2016       </td><td>US Dollar  </td><td>41862.11   </td><td>40963.48   </td><td>14.03033   </td><td>6.504374   </td><td>NA         </td><td>2.616257   </td><td>...        </td><td>0.1319126  </td><td>-0.2507735 </td><td>-0.01625811</td><td>0.4705258  </td><td>0.6512052  </td><td>0.5413616  </td><td>0.6197640  </td><td>0.5206203  </td><td>0.4165095  </td><td>1.492129   </td></tr>\n",
       "\t<tr><th scope=row>ZWE-2017</th><td>Zimbabwe   </td><td>ZWE        </td><td>2017       </td><td>US Dollar  </td><td>44651.22   </td><td>44307.75   </td><td>14.23659   </td><td>6.611773   </td><td>NA         </td><td>2.648248   </td><td>...        </td><td>0.1267880  </td><td>-0.2025961 </td><td>-0.03989655</td><td>0.4731740  </td><td>0.6401010  </td><td>0.5228315  </td><td>0.6195395  </td><td>0.5527833  </td><td>0.4155922  </td><td>1.515128   </td></tr>\n",
       "\t<tr><th scope=row>ZWE-2018</th><td>Zimbabwe   </td><td>ZWE        </td><td>2018       </td><td>US Dollar  </td><td>44314.09   </td><td>43398.22   </td><td>14.43880   </td><td>6.714952   </td><td>NA         </td><td>2.680630   </td><td>...        </td><td>0.1471096  </td><td>-0.2684501 </td><td>-0.02079093</td><td>0.5467454  </td><td>0.6418074  </td><td>0.5328073  </td><td>0.6334020  </td><td>0.5545524  </td><td>0.4251428  </td><td>1.590753   </td></tr>\n",
       "\t<tr><th scope=row>ZWE-2019</th><td>Zimbabwe   </td><td>ZWE        </td><td>2019       </td><td>US Dollar  </td><td>42289.54   </td><td>40849.78   </td><td>14.64547   </td><td>6.831017   </td><td>NA         </td><td>2.713408   </td><td>...        </td><td>0.2177617  </td><td>-0.2762541 </td><td>-0.08979836</td><td>0.4983289  </td><td>0.6345636  </td><td>0.5048150  </td><td>0.4811710  </td><td>0.4243214  </td><td>0.4206754  </td><td>1.384638   </td></tr>\n",
       "</tbody>\n",
       "</table>\n"
      ],
      "text/latex": [
       "\\begin{tabular}{r|llllllllllllllllllllllllllllllllllllllllllllllllllll}\n",
       "  & country & isocode & year & currency & rgdpe & rgdpo & pop & emp & avh & hc & ... & csh\\_x & csh\\_m & csh\\_r & pl\\_c & pl\\_i & pl\\_g & pl\\_x & pl\\_m & pl\\_n & pl\\_k\\\\\n",
       "\\hline\n",
       "\tZWE-2014 & Zimbabwe    & ZWE         & 2014        & US Dollar   & 37848.04    & 38675.91    & 13.58671    & 6.265931    & NA          & 2.550258    & ...         & 0.1190498   & -0.2843523  &  0.04197797 & 0.4960309   & 0.6635631   & 0.5564892   & 0.6794606   & 0.5923634   & 0.4342538   & 1.621305   \\\\\n",
       "\tZWE-2015 & Zimbabwe    & ZWE         & 2015        & US Dollar   & 40128.77    & 39799.66    & 13.81463    & 6.393752    & NA          & 2.584653    & ...         & 0.1401438   & -0.2871860  & -0.05193033 & 0.4792130   & 0.6516509   & 0.5423669   & 0.6167260   & 0.5341033   & 0.4227642   & 1.534175   \\\\\n",
       "\tZWE-2016 & Zimbabwe    & ZWE         & 2016        & US Dollar   & 41862.11    & 40963.48    & 14.03033    & 6.504374    & NA          & 2.616257    & ...         & 0.1319126   & -0.2507735  & -0.01625811 & 0.4705258   & 0.6512052   & 0.5413616   & 0.6197640   & 0.5206203   & 0.4165095   & 1.492129   \\\\\n",
       "\tZWE-2017 & Zimbabwe    & ZWE         & 2017        & US Dollar   & 44651.22    & 44307.75    & 14.23659    & 6.611773    & NA          & 2.648248    & ...         & 0.1267880   & -0.2025961  & -0.03989655 & 0.4731740   & 0.6401010   & 0.5228315   & 0.6195395   & 0.5527833   & 0.4155922   & 1.515128   \\\\\n",
       "\tZWE-2018 & Zimbabwe    & ZWE         & 2018        & US Dollar   & 44314.09    & 43398.22    & 14.43880    & 6.714952    & NA          & 2.680630    & ...         & 0.1471096   & -0.2684501  & -0.02079093 & 0.5467454   & 0.6418074   & 0.5328073   & 0.6334020   & 0.5545524   & 0.4251428   & 1.590753   \\\\\n",
       "\tZWE-2019 & Zimbabwe    & ZWE         & 2019        & US Dollar   & 42289.54    & 40849.78    & 14.64547    & 6.831017    & NA          & 2.713408    & ...         & 0.2177617   & -0.2762541  & -0.08979836 & 0.4983289   & 0.6345636   & 0.5048150   & 0.4811710   & 0.4243214   & 0.4206754   & 1.384638   \\\\\n",
       "\\end{tabular}\n"
      ],
      "text/markdown": [
       "\n",
       "| <!--/--> | country | isocode | year | currency | rgdpe | rgdpo | pop | emp | avh | hc | ... | csh_x | csh_m | csh_r | pl_c | pl_i | pl_g | pl_x | pl_m | pl_n | pl_k |\n",
       "|---|---|---|---|---|---|---|---|---|---|---|---|---|---|---|---|---|---|---|---|---|---|\n",
       "| ZWE-2014 | Zimbabwe    | ZWE         | 2014        | US Dollar   | 37848.04    | 38675.91    | 13.58671    | 6.265931    | NA          | 2.550258    | ...         | 0.1190498   | -0.2843523  |  0.04197797 | 0.4960309   | 0.6635631   | 0.5564892   | 0.6794606   | 0.5923634   | 0.4342538   | 1.621305    |\n",
       "| ZWE-2015 | Zimbabwe    | ZWE         | 2015        | US Dollar   | 40128.77    | 39799.66    | 13.81463    | 6.393752    | NA          | 2.584653    | ...         | 0.1401438   | -0.2871860  | -0.05193033 | 0.4792130   | 0.6516509   | 0.5423669   | 0.6167260   | 0.5341033   | 0.4227642   | 1.534175    |\n",
       "| ZWE-2016 | Zimbabwe    | ZWE         | 2016        | US Dollar   | 41862.11    | 40963.48    | 14.03033    | 6.504374    | NA          | 2.616257    | ...         | 0.1319126   | -0.2507735  | -0.01625811 | 0.4705258   | 0.6512052   | 0.5413616   | 0.6197640   | 0.5206203   | 0.4165095   | 1.492129    |\n",
       "| ZWE-2017 | Zimbabwe    | ZWE         | 2017        | US Dollar   | 44651.22    | 44307.75    | 14.23659    | 6.611773    | NA          | 2.648248    | ...         | 0.1267880   | -0.2025961  | -0.03989655 | 0.4731740   | 0.6401010   | 0.5228315   | 0.6195395   | 0.5527833   | 0.4155922   | 1.515128    |\n",
       "| ZWE-2018 | Zimbabwe    | ZWE         | 2018        | US Dollar   | 44314.09    | 43398.22    | 14.43880    | 6.714952    | NA          | 2.680630    | ...         | 0.1471096   | -0.2684501  | -0.02079093 | 0.5467454   | 0.6418074   | 0.5328073   | 0.6334020   | 0.5545524   | 0.4251428   | 1.590753    |\n",
       "| ZWE-2019 | Zimbabwe    | ZWE         | 2019        | US Dollar   | 42289.54    | 40849.78    | 14.64547    | 6.831017    | NA          | 2.713408    | ...         | 0.2177617   | -0.2762541  | -0.08979836 | 0.4983289   | 0.6345636   | 0.5048150   | 0.4811710   | 0.4243214   | 0.4206754   | 1.384638    |\n",
       "\n"
      ],
      "text/plain": [
       "         country  isocode year currency  rgdpe    rgdpo    pop      emp     \n",
       "ZWE-2014 Zimbabwe ZWE     2014 US Dollar 37848.04 38675.91 13.58671 6.265931\n",
       "ZWE-2015 Zimbabwe ZWE     2015 US Dollar 40128.77 39799.66 13.81463 6.393752\n",
       "ZWE-2016 Zimbabwe ZWE     2016 US Dollar 41862.11 40963.48 14.03033 6.504374\n",
       "ZWE-2017 Zimbabwe ZWE     2017 US Dollar 44651.22 44307.75 14.23659 6.611773\n",
       "ZWE-2018 Zimbabwe ZWE     2018 US Dollar 44314.09 43398.22 14.43880 6.714952\n",
       "ZWE-2019 Zimbabwe ZWE     2019 US Dollar 42289.54 40849.78 14.64547 6.831017\n",
       "         avh hc       ... csh_x     csh_m      csh_r       pl_c      pl_i     \n",
       "ZWE-2014 NA  2.550258 ... 0.1190498 -0.2843523  0.04197797 0.4960309 0.6635631\n",
       "ZWE-2015 NA  2.584653 ... 0.1401438 -0.2871860 -0.05193033 0.4792130 0.6516509\n",
       "ZWE-2016 NA  2.616257 ... 0.1319126 -0.2507735 -0.01625811 0.4705258 0.6512052\n",
       "ZWE-2017 NA  2.648248 ... 0.1267880 -0.2025961 -0.03989655 0.4731740 0.6401010\n",
       "ZWE-2018 NA  2.680630 ... 0.1471096 -0.2684501 -0.02079093 0.5467454 0.6418074\n",
       "ZWE-2019 NA  2.713408 ... 0.2177617 -0.2762541 -0.08979836 0.4983289 0.6345636\n",
       "         pl_g      pl_x      pl_m      pl_n      pl_k    \n",
       "ZWE-2014 0.5564892 0.6794606 0.5923634 0.4342538 1.621305\n",
       "ZWE-2015 0.5423669 0.6167260 0.5341033 0.4227642 1.534175\n",
       "ZWE-2016 0.5413616 0.6197640 0.5206203 0.4165095 1.492129\n",
       "ZWE-2017 0.5228315 0.6195395 0.5527833 0.4155922 1.515128\n",
       "ZWE-2018 0.5328073 0.6334020 0.5545524 0.4251428 1.590753\n",
       "ZWE-2019 0.5048150 0.4811710 0.4243214 0.4206754 1.384638"
      ]
     },
     "metadata": {},
     "output_type": "display_data"
    }
   ],
   "source": [
    "tail(pwt10.0)"
   ]
  },
  {
   "cell_type": "markdown",
   "id": "bcc9b579",
   "metadata": {},
   "source": [
    "To get a variable for a given country and a given year):"
   ]
  },
  {
   "cell_type": "code",
   "execution_count": 8,
   "id": "fe21d7c2",
   "metadata": {},
   "outputs": [
    {
     "data": {
      "text/html": [
       "589003.375"
      ],
      "text/latex": [
       "589003.375"
      ],
      "text/markdown": [
       "589003.375"
      ],
      "text/plain": [
       "[1] 589003.4"
      ]
     },
     "metadata": {},
     "output_type": "display_data"
    }
   ],
   "source": [
    "rgdpe[country==\"Belgium\" & year==2019] "
   ]
  },
  {
   "cell_type": "markdown",
   "id": "09cb7cb8",
   "metadata": {},
   "source": [
    "(Make sure you verify in the `help` file what the definitions and the units of measurement of the variables are.)"
   ]
  },
  {
   "cell_type": "markdown",
   "id": "00531e27",
   "metadata": {},
   "source": [
    "Compute **real GDP per person** (rgdpe is in millions of international dollars, pop is in millions):"
   ]
  },
  {
   "cell_type": "code",
   "execution_count": 9,
   "id": "27dc8e14",
   "metadata": {},
   "outputs": [],
   "source": [
    "real.gdp.per.person <- rgdpe/pop"
   ]
  },
  {
   "cell_type": "markdown",
   "id": "959e2909",
   "metadata": {},
   "source": [
    "Compare real GDP per person in Belgium and India:"
   ]
  },
  {
   "cell_type": "code",
   "execution_count": 10,
   "id": "e334bbc4",
   "metadata": {},
   "outputs": [
    {
     "data": {
      "text/html": [
       "51043.1261681789"
      ],
      "text/latex": [
       "51043.1261681789"
      ],
      "text/markdown": [
       "51043.1261681789"
      ],
      "text/plain": [
       "[1] 51043.13"
      ]
     },
     "metadata": {},
     "output_type": "display_data"
    },
    {
     "data": {
      "text/html": [
       "6542.36522749396"
      ],
      "text/latex": [
       "6542.36522749396"
      ],
      "text/markdown": [
       "6542.36522749396"
      ],
      "text/plain": [
       "[1] 6542.365"
      ]
     },
     "metadata": {},
     "output_type": "display_data"
    }
   ],
   "source": [
    "real.gdp.per.person[country==\"Belgium\" & year==2019]\n",
    "real.gdp.per.person[country==\"India\"   & year==2019]"
   ]
  },
  {
   "cell_type": "markdown",
   "id": "a417d678",
   "metadata": {},
   "source": [
    "To report in a paper, round the numbers:"
   ]
  },
  {
   "cell_type": "code",
   "execution_count": 11,
   "id": "81b579a3",
   "metadata": {},
   "outputs": [
    {
     "data": {
      "text/html": [
       "51043"
      ],
      "text/latex": [
       "51043"
      ],
      "text/markdown": [
       "51043"
      ],
      "text/plain": [
       "[1] 51043"
      ]
     },
     "metadata": {},
     "output_type": "display_data"
    },
    {
     "data": {
      "text/html": [
       "6542"
      ],
      "text/latex": [
       "6542"
      ],
      "text/markdown": [
       "6542"
      ],
      "text/plain": [
       "[1] 6542"
      ]
     },
     "metadata": {},
     "output_type": "display_data"
    }
   ],
   "source": [
    "round(real.gdp.per.person[country==\"Belgium\" & year==2019],0)\n",
    "round(real.gdp.per.person[country==\"India\"   & year==2019],0)"
   ]
  },
  {
   "cell_type": "markdown",
   "id": "43ec8dab",
   "metadata": {},
   "source": [
    "Create a **time series** of real.gdp.per.person in Belgium, and one for India:"
   ]
  },
  {
   "cell_type": "code",
   "execution_count": 12,
   "id": "f30974a1",
   "metadata": {},
   "outputs": [],
   "source": [
    "real.gdp.per.person.Belgium.ts <- ts(real.gdp.per.person[country==\"Belgium\"],start=1950,frequency=1)\n",
    "real.gdp.per.person.India.ts   <- ts(real.gdp.per.person[country==\"India\"],start=1950,frequency=1)"
   ]
  },
  {
   "cell_type": "markdown",
   "id": "19f5659b",
   "metadata": {},
   "source": [
    "Display the time series:"
   ]
  },
  {
   "cell_type": "code",
   "execution_count": 13,
   "id": "bdc7cace",
   "metadata": {},
   "outputs": [
    {
     "name": "stdout",
     "output_type": "stream",
     "text": [
      "Time Series:\n",
      "Start = 1950 \n",
      "End = 2019 \n",
      "Frequency = 1 \n",
      " [1]  8715.224  9273.247  9409.461  9367.220  9720.017 10263.298 10653.416\n",
      " [8] 10660.652 10547.524 10626.542 11286.537 11730.134 12283.515 12604.827\n",
      "[15] 13408.565 13853.025 14199.267 14663.810 15216.722 16256.413 17217.544\n",
      "[22] 17732.330 18851.037 20242.316 20878.001 20421.814 21710.480 22122.156\n",
      "[29] 22944.246 23733.183 24644.257 23053.681 22293.853 21617.186 21634.635\n",
      "[36] 21424.602 22491.820 23274.039 24976.075 26226.261 27180.644 27637.587\n",
      "[43] 28436.651 28411.489 29367.456 30219.974 31830.341 32094.250 33290.379\n",
      "[50] 34688.455 36767.887 36860.141 37286.427 37180.268 37939.990 39444.474\n",
      "[57] 40485.806 42015.229 42673.330 42173.086 44664.263 44892.995 45120.884\n",
      "[64] 44956.106 45298.634 47018.976 48381.121 49721.965 50087.612 51043.126\n"
     ]
    }
   ],
   "source": [
    "print(real.gdp.per.person.Belgium.ts)"
   ]
  },
  {
   "cell_type": "code",
   "execution_count": 14,
   "id": "c4c37a55",
   "metadata": {},
   "outputs": [
    {
     "name": "stdout",
     "output_type": "stream",
     "text": [
      "Time Series:\n",
      "Start = 1950 \n",
      "End = 2019 \n",
      "Frequency = 1 \n",
      " [1]  942.3045  964.7629  974.7174 1007.9172 1032.3809 1035.4973 1056.3722\n",
      " [8] 1034.9890 1093.4827 1095.5997 1147.1422 1166.0438 1188.5858 1244.8504\n",
      "[15] 1307.3670 1256.1793 1222.8445 1288.8790 1321.3329 1434.9858 1428.0447\n",
      "[22] 1454.5771 1476.8854 1521.5846 1461.7091 1570.1621 1525.1675 1486.4584\n",
      "[29] 1416.2560 1284.0707 1270.6459 1237.8531 1193.4137 1203.9959 1174.3938\n",
      "[36] 1165.1264 1189.8944 1226.3316 1296.1108 1358.0564 1407.7828 1433.3704\n",
      "[43] 1474.0406 1532.9346 1589.7804 1681.9468 1784.8033 1832.7646 1949.7624\n",
      "[50] 2042.2671 2111.6739 2197.6187 2278.3162 2430.2312 2603.3505 2871.3546\n",
      "[57] 3149.2869 3489.4584 3540.1195 3863.1126 4372.8914 4660.0281 4914.5975\n",
      "[64] 5035.5140 5164.2490 5463.6022 5770.2333 6027.5547 6364.3286 6542.3652\n"
     ]
    }
   ],
   "source": [
    "print(real.gdp.per.person.India.ts)"
   ]
  },
  {
   "cell_type": "markdown",
   "id": "7c2abc27",
   "metadata": {},
   "source": [
    "**Plot** the time series:"
   ]
  },
  {
   "cell_type": "code",
   "execution_count": 15,
   "id": "43c588b6",
   "metadata": {},
   "outputs": [
    {
     "data": {
      "image/png": "[encoded data removed]",
      "text/plain": [
       "plot without title"
      ]
     },
     "metadata": {},
     "output_type": "display_data"
    }
   ],
   "source": [
    "par(mar = c(5,7,1,1))\n",
    "plot(real.gdp.per.person.Belgium.ts , xlab=\"Year\",ylab=\"\",ylim=c(0,max(real.gdp.per.person.Belgium.ts)), \n",
    "     cex.axis = 2.5,cex.lab=4.5,las=1,xaxs=\"i\", yaxs=\"i\", frame.plot=FALSE) \n",
    "myYlabel =\"Real GDP per person \\n (chained PPPs, USD, prices of 2017)\"\n",
    "mtext(myYlabel, side = 2, line = 4, cex = 1) # side = 2 puts label on the y-axis\n",
    "lines(real.gdp.per.person.India.ts, col=\"red\") # add line for time series of second country\n",
    "legend(\"topleft\", c(\"Belgium\",\"India\"), col=c(\"black\",\"red\"), lty=1 , bty = \"n\")"
   ]
  },
  {
   "cell_type": "markdown",
   "id": "f540f776",
   "metadata": {},
   "source": [
    "To save the plot to a file (.pdf), insert the code from the block above between `pdf(\"filename.pdf\")` and `dev.off()`: "
   ]
  },
  {
   "cell_type": "code",
   "execution_count": 16,
   "id": "89d0fca8",
   "metadata": {},
   "outputs": [
    {
     "data": {
      "text/html": [
       "<strong>pdf:</strong> 2"
      ],
      "text/latex": [
       "\\textbf{pdf:} 2"
      ],
      "text/markdown": [
       "**pdf:** 2"
      ],
      "text/plain": [
       "pdf \n",
       "  2 "
      ]
     },
     "metadata": {},
     "output_type": "display_data"
    }
   ],
   "source": [
    "pdf(\"figure-1.pdf\")\n",
    "# Insert the block of code above here (without a hashtag)\n",
    "dev.off()"
   ]
  },
  {
   "cell_type": "markdown",
   "id": "210c1d0c",
   "metadata": {},
   "source": [
    "To know where the pdf file is saved, do `getwd()` (get working directory):"
   ]
  },
  {
   "cell_type": "code",
   "execution_count": 17,
   "id": "398a3572",
   "metadata": {},
   "outputs": [
    {
     "data": {
      "text/html": [
       "'/Users/luchens/Documents/jupyter-notebooks'"
      ],
      "text/latex": [
       "'/Users/luchens/Documents/jupyter-notebooks'"
      ],
      "text/markdown": [
       "'/Users/luchens/Documents/jupyter-notebooks'"
      ],
      "text/plain": [
       "[1] \"/Users/luchens/Documents/jupyter-notebooks\""
      ]
     },
     "metadata": {},
     "output_type": "display_data"
    }
   ],
   "source": [
    "getwd()    # tells you where the file is saved"
   ]
  },
  {
   "cell_type": "markdown",
   "id": "d381021d",
   "metadata": {},
   "source": [
    "Compute **labor productivity** (Real GDP per worker; rgdpe is in millions of international dollars, emp is in millions) :"
   ]
  },
  {
   "cell_type": "code",
   "execution_count": 18,
   "id": "20a636e2",
   "metadata": {},
   "outputs": [],
   "source": [
    "real.gdp.per.worker <- rgdpe/emp"
   ]
  },
  {
   "cell_type": "markdown",
   "id": "e825af02",
   "metadata": {},
   "source": [
    "Compare labor productivity in Belgium and India:"
   ]
  },
  {
   "cell_type": "code",
   "execution_count": 19,
   "id": "e9b89995",
   "metadata": {},
   "outputs": [
    {
     "data": {
      "text/html": [
       "119669.031399483"
      ],
      "text/latex": [
       "119669.031399483"
      ],
      "text/markdown": [
       "119669.031399483"
      ],
      "text/plain": [
       "[1] 119669"
      ]
     },
     "metadata": {},
     "output_type": "display_data"
    },
    {
     "data": {
      "text/html": [
       "17964.8744864427"
      ],
      "text/latex": [
       "17964.8744864427"
      ],
      "text/markdown": [
       "17964.8744864427"
      ],
      "text/plain": [
       "[1] 17964.87"
      ]
     },
     "metadata": {},
     "output_type": "display_data"
    }
   ],
   "source": [
    "real.gdp.per.worker[country==\"Belgium\" & year==2019]\n",
    "real.gdp.per.worker[country==\"India\"   & year==2019]"
   ]
  },
  {
   "cell_type": "markdown",
   "id": "d3c984a0",
   "metadata": {},
   "source": [
    "To report in a paper, round the numbers:"
   ]
  },
  {
   "cell_type": "code",
   "execution_count": 20,
   "id": "b3ee1fae",
   "metadata": {},
   "outputs": [
    {
     "data": {
      "text/html": [
       "119669"
      ],
      "text/latex": [
       "119669"
      ],
      "text/markdown": [
       "119669"
      ],
      "text/plain": [
       "[1] 119669"
      ]
     },
     "metadata": {},
     "output_type": "display_data"
    },
    {
     "data": {
      "text/html": [
       "17965"
      ],
      "text/latex": [
       "17965"
      ],
      "text/markdown": [
       "17965"
      ],
      "text/plain": [
       "[1] 17965"
      ]
     },
     "metadata": {},
     "output_type": "display_data"
    }
   ],
   "source": [
    "round(real.gdp.per.worker[country==\"Belgium\" & year==2019], 0) \n",
    "round(real.gdp.per.worker[country==\"India\"   & year==2019], 0)"
   ]
  },
  {
   "cell_type": "markdown",
   "id": "d5c3cea4",
   "metadata": {},
   "source": [
    "Find out how strong in Belgium the **correlation** is between labor productivity and GDP per capita:"
   ]
  },
  {
   "cell_type": "code",
   "execution_count": 21,
   "id": "3c2d9494",
   "metadata": {},
   "outputs": [
    {
     "data": {
      "text/html": [
       "0.99728880741932"
      ],
      "text/latex": [
       "0.99728880741932"
      ],
      "text/markdown": [
       "0.99728880741932"
      ],
      "text/plain": [
       "[1] 0.9972888"
      ]
     },
     "metadata": {},
     "output_type": "display_data"
    }
   ],
   "source": [
    "cor(real.gdp.per.worker[country==\"Belgium\"],real.gdp.per.person[country==\"Belgium\"])"
   ]
  },
  {
   "cell_type": "markdown",
   "id": "baefca91",
   "metadata": {},
   "source": [
    "A **scatter plot** is useful to verify whether a (linear) relationship exists between labor productivity and GDP per capita (don't include the scatter plot in the paper):"
   ]
  },
  {
   "cell_type": "code",
   "execution_count": 22,
   "id": "7b9206ce",
   "metadata": {},
   "outputs": [
    {
     "data": {
      "image/png": "[encoded data removed]",
      "text/plain": [
       "plot without title"
      ]
     },
     "metadata": {},
     "output_type": "display_data"
    }
   ],
   "source": [
    "plot(real.gdp.per.worker[country==\"Belgium\"],real.gdp.per.person[country==\"Belgium\"])"
   ]
  },
  {
   "cell_type": "markdown",
   "id": "fa85a11c",
   "metadata": {},
   "source": [
    "Find out how strong in India the correlation is between labor productivity and real GDP per capita:"
   ]
  },
  {
   "cell_type": "code",
   "execution_count": 23,
   "id": "36079bdb",
   "metadata": {},
   "outputs": [
    {
     "data": {
      "text/html": [
       "0.998908987861915"
      ],
      "text/latex": [
       "0.998908987861915"
      ],
      "text/markdown": [
       "0.998908987861915"
      ],
      "text/plain": [
       "[1] 0.998909"
      ]
     },
     "metadata": {},
     "output_type": "display_data"
    }
   ],
   "source": [
    "cor(real.gdp.per.worker[country==\"India\"],real.gdp.per.person[country==\"India\"])"
   ]
  },
  {
   "cell_type": "code",
   "execution_count": 24,
   "id": "be37d8f7",
   "metadata": {},
   "outputs": [
    {
     "data": {
      "image/png": "[encoded data removed]",
      "text/plain": [
       "plot without title"
      ]
     },
     "metadata": {},
     "output_type": "display_data"
    }
   ],
   "source": [
    "plot(real.gdp.per.worker[country==\"India\"],real.gdp.per.person[country==\"India\"])"
   ]
  },
  {
   "cell_type": "markdown",
   "id": "8a17bf11",
   "metadata": {},
   "source": [
    "What do you conclude? Is there in each country a strong linear relationship between labor productivity and real GDP per capita? Is labor productivity a good predictor of real GDP per capita?"
   ]
  },
  {
   "cell_type": "markdown",
   "id": "7ff7cf35",
   "metadata": {},
   "source": [
    "To convert the numbers of production factor per person to  production factor per worker, you will need the ratio of the labor force to population (`emp/pop`) (carefully check which year you need):"
   ]
  },
  {
   "cell_type": "code",
   "execution_count": 25,
   "id": "d32a6f16",
   "metadata": {},
   "outputs": [
    {
     "data": {
      "text/html": [
       "0.421470544578364"
      ],
      "text/latex": [
       "0.421470544578364"
      ],
      "text/markdown": [
       "0.421470544578364"
      ],
      "text/plain": [
       "[1] 0.4214705"
      ]
     },
     "metadata": {},
     "output_type": "display_data"
    }
   ],
   "source": [
    "emp[country==\"Belgium\" & year==2018]/pop[country==\"Belgium\" & year==2018]"
   ]
  },
  {
   "cell_type": "code",
   "execution_count": 26,
   "id": "a63a24c6",
   "metadata": {},
   "outputs": [
    {
     "data": {
      "text/html": [
       "0.363050317688322"
      ],
      "text/latex": [
       "0.363050317688322"
      ],
      "text/markdown": [
       "0.363050317688322"
      ],
      "text/plain": [
       "[1] 0.3630503"
      ]
     },
     "metadata": {},
     "output_type": "display_data"
    }
   ],
   "source": [
    "emp[country==\"India\"   & year==2018]/pop[country==\"India\"   & year==2018]"
   ]
  },
  {
   "cell_type": "markdown",
   "id": "44530eac",
   "metadata": {},
   "source": [
    "To find **average annual growth rates**, the formula using logarithms is useful:\n",
    "\n",
    "$$  g \\approx \\frac{\\ln x_{t+k}  - \\ln x_t}{k}  $$"
   ]
  },
  {
   "cell_type": "code",
   "execution_count": 27,
   "id": "4615397c",
   "metadata": {},
   "outputs": [
    {
     "data": {
      "text/html": [
       "0.0256173848926736"
      ],
      "text/latex": [
       "0.0256173848926736"
      ],
      "text/markdown": [
       "0.0256173848926736"
      ],
      "text/plain": [
       "[1] 0.02561738"
      ]
     },
     "metadata": {},
     "output_type": "display_data"
    }
   ],
   "source": [
    "# Average annual growth rates, 1950-2019:\n",
    "begin.period <- 1950\n",
    "end.period   <- 2019\n",
    "(log(real.gdp.per.person[country==\"Belgium\" & year==end.period])\n",
    "     -log(real.gdp.per.person[country==\"Belgium\" & year==begin.period]))/(end.period-begin.period ) "
   ]
  },
  {
   "cell_type": "code",
   "execution_count": 28,
   "id": "7dc62fbc",
   "metadata": {},
   "outputs": [
    {
     "data": {
      "text/html": [
       "0.0280829798192249"
      ],
      "text/latex": [
       "0.0280829798192249"
      ],
      "text/markdown": [
       "0.0280829798192249"
      ],
      "text/plain": [
       "[1] 0.02808298"
      ]
     },
     "metadata": {},
     "output_type": "display_data"
    }
   ],
   "source": [
    "(log(real.gdp.per.person[country==\"India\" & year==end.period])\n",
    "     -log(real.gdp.per.person[country==\"India\" & year==begin.period]))/(end.period-begin.period ) "
   ]
  },
  {
   "cell_type": "markdown",
   "id": "2e96438f",
   "metadata": {},
   "source": [
    "(Multiply by 100% to get percentage growth rates.)"
   ]
  }
 ],
 "metadata": {
  "kernelspec": {
   "display_name": "R",
   "language": "R",
   "name": "ir"
  },
  "language_info": {
   "codemirror_mode": "r",
   "file_extension": ".r",
   "mimetype": "text/x-r-source",
   "name": "R",
   "pygments_lexer": "r",
   "version": "3.6.1"
  }
 },
 "nbformat": 4,
 "nbformat_minor": 5
}
